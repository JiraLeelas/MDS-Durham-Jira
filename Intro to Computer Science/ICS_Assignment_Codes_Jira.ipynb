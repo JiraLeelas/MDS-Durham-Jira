{
 "cells": [
  {
   "cell_type": "markdown",
   "metadata": {},
   "source": [
    "Before you turn this problem in, make sure everything runs as expected. First, **restart the kernel** (in the menubar, select Kernel$\\rightarrow$Restart) and then **run all cells** (in the menubar, select Cell$\\rightarrow$Run All).\n",
    "\n",
    "Make sure you fill in any place that says `YOUR CODE HERE` or \"YOUR ANSWER HERE\""
   ]
  },
  {
   "cell_type": "markdown",
   "metadata": {
    "deletable": false,
    "editable": false,
    "nbgrader": {
     "cell_type": "markdown",
     "checksum": "ea676fc5daf34b79365ba0b97c057f57",
     "grade": false,
     "grade_id": "cell-6f578c8e530dc6fd",
     "locked": true,
     "schema_version": 3,
     "solution": false,
     "task": false
    }
   },
   "source": [
    "Please use this template to submit your coursework assignment for COMP42215. You may add new code blocks if needed, but make sure the question number is clearly identified. There will be a video provided on Ultra to demonstrate how to submit this notebook once you have completed the tasks. You may submit multiple times up to the deadline, but only the last submission will be marked. We will run all of your code on NCC, so please ensure your notebook runs successfully before submission by clicking `Kernel` -> `Restart & Run All`. The deadline for submissions is 2pm on Friday 3rd November 2023. Late submissions (submitted up to 5 working days after the deadline) will be marked and capped at the pass mark of 50%. All later submissions will be given a mark of 0."
   ]
  },
  {
   "cell_type": "markdown",
   "metadata": {
    "deletable": false,
    "editable": false,
    "nbgrader": {
     "cell_type": "markdown",
     "checksum": "e313248b92ce281c3883bd1b7b563108",
     "grade": false,
     "grade_id": "cell-baf9c8c198566c52",
     "locked": true,
     "schema_version": 3,
     "solution": false,
     "task": false
    }
   },
   "source": [
    "You may want to place all of your import statements in the code block below, or you can import modules in the appropriate code blocks as needed, it doesn't matter which approach you want to take. "
   ]
  },
  {
   "cell_type": "code",
   "execution_count": 1,
   "metadata": {
    "deletable": false,
    "nbgrader": {
     "cell_type": "code",
     "checksum": "32599f96bbebc8f2b9f13a1fb2037e7d",
     "grade": true,
     "grade_id": "cell-62ce7ae43fab20f8",
     "locked": false,
     "points": 0,
     "schema_version": 3,
     "solution": true,
     "task": false
    }
   },
   "outputs": [
    {
     "data": {
      "text/plain": [
       "'\\n    Student Information\\nStudent User name: bqxt46\\nStudent Number: 001113534\\nEstimate runtime: 5-6 minutes\\n'"
      ]
     },
     "execution_count": 1,
     "metadata": {},
     "output_type": "execute_result"
    }
   ],
   "source": [
    "#Imports for this coursework\n",
    "import random\n",
    "import numpy as np\n",
    "import matplotlib.pyplot as plt\n",
    "%matplotlib inline\n",
    "import timeit\n",
    "\n",
    "'''\n",
    "    Student Information\n",
    "Student User name: bqxt46\n",
    "Student Number: 001113534\n",
    "Estimate runtime: 5-6 minutes\n",
    "'''"
   ]
  },
  {
   "cell_type": "markdown",
   "metadata": {
    "deletable": false,
    "editable": false,
    "nbgrader": {
     "cell_type": "markdown",
     "checksum": "e58f2ba2333512bd6b36955bc39e2e92",
     "grade": false,
     "grade_id": "cell-9a71352a156e189d",
     "locked": true,
     "schema_version": 3,
     "solution": false,
     "task": false
    }
   },
   "source": [
    "## Section 1 (35%)"
   ]
  },
  {
   "cell_type": "markdown",
   "metadata": {
    "deletable": false,
    "editable": false,
    "nbgrader": {
     "cell_type": "markdown",
     "checksum": "6291182cf2a1833920a871f7ea7b0c8b",
     "grade": false,
     "grade_id": "cell-0113701a6a38f8df",
     "locked": true,
     "schema_version": 3,
     "solution": false,
     "task": false
    }
   },
   "source": [
    "1) Write a function to generate two Python lists of the same size that contain random integer data. The function should take as an argument the desired size of the lists, and return a tuple containing the two lists. [5%]"
   ]
  },
  {
   "cell_type": "code",
   "execution_count": 2,
   "metadata": {
    "deletable": false,
    "nbgrader": {
     "cell_type": "code",
     "checksum": "e36341b143ef391b829a23c572adbc0a",
     "grade": true,
     "grade_id": "cell-0211269a4de58cac",
     "locked": false,
     "points": 5,
     "schema_version": 3,
     "solution": true,
     "task": false
    }
   },
   "outputs": [],
   "source": [
    "#Question 1\n",
    "def randTwolist(s):\n",
    "    \n",
    "    #Run only when the function input is an int\n",
    "    if isinstance(s, int):\n",
    "        L1 = [random.randint(0, 10) for i in range(s)]\n",
    "        L2 = [random.randint(0, 10) for j in range(s)]\n",
    "        return L1, L2\n",
    "    \n",
    "    else:\n",
    "        print(\"The function input is not an integer.\")  "
   ]
  },
  {
   "cell_type": "code",
   "execution_count": 3,
   "metadata": {},
   "outputs": [
    {
     "name": "stdout",
     "output_type": "stream",
     "text": [
      "[5, 4, 9, 7]\n",
      "[3, 7, 6, 0]\n"
     ]
    }
   ],
   "source": [
    "#Testing Question 1\n",
    "list_1, list_2 = randTwolist(4)\n",
    "print(list_1)\n",
    "print(list_2)"
   ]
  },
  {
   "cell_type": "markdown",
   "metadata": {
    "deletable": false,
    "editable": false,
    "nbgrader": {
     "cell_type": "markdown",
     "checksum": "98a9624393682d9b0a28213fdc5ed82d",
     "grade": false,
     "grade_id": "cell-b1a1e3f93fb01ef8",
     "locked": true,
     "schema_version": 3,
     "solution": false,
     "task": false
    }
   },
   "source": [
    "2) Write a function that takes two Python lists as input and multiplies them together elementwise, returning a new list object. (I.e. you should not overwrite the data in either input list) [3%]"
   ]
  },
  {
   "cell_type": "code",
   "execution_count": 4,
   "metadata": {
    "deletable": false,
    "nbgrader": {
     "cell_type": "code",
     "checksum": "a238bddaa2be1a982feb0a9f9ef8bbdc",
     "grade": true,
     "grade_id": "cell-0986bd5e6757e7f4",
     "locked": false,
     "points": 3,
     "schema_version": 3,
     "solution": true,
     "task": false
    }
   },
   "outputs": [],
   "source": [
    "#Question 2\n",
    "def multList(a, b):\n",
    "    c = []\n",
    "    \n",
    "    #Check wheter both of the inputs are list or not\n",
    "    if (isinstance(a, list) and isinstance(b, list)):\n",
    "        \n",
    "        #Check if the list of the length is equal\n",
    "        if len(a) == len(b):\n",
    "            \n",
    "            for i in range(len(a)):\n",
    "                c.append(a[i]*b[i])\n",
    "            return c\n",
    "\n",
    "        #If not, print an error message\n",
    "        else:\n",
    "            print(\"These two list are not equal in size.\")\n",
    "            \n",
    "    else:\n",
    "        print(\"Both of the inputs must be a list.\")\n"
   ]
  },
  {
   "cell_type": "code",
   "execution_count": 5,
   "metadata": {},
   "outputs": [
    {
     "name": "stdout",
     "output_type": "stream",
     "text": [
      "[15, 28, 54, 0]\n"
     ]
    }
   ],
   "source": [
    "#Testing Question 2\n",
    "list_3 = multList(list_1, list_2)\n",
    "print(list_3)"
   ]
  },
  {
   "cell_type": "markdown",
   "metadata": {
    "deletable": false,
    "editable": false,
    "nbgrader": {
     "cell_type": "markdown",
     "checksum": "cdfb900c182af0ed148fd8ec0797f887",
     "grade": false,
     "grade_id": "cell-03c48f78300c91a1",
     "locked": true,
     "schema_version": 3,
     "solution": false,
     "task": false
    }
   },
   "source": [
    "3) Write a function to generate two 1-dimensional NumPy arrays (ndarrays) of the same size that contain random integer data. The function should take as an argument the desired size of the arrays, and return a tuple containing the two arrays. [5%]"
   ]
  },
  {
   "cell_type": "code",
   "execution_count": 6,
   "metadata": {
    "deletable": false,
    "nbgrader": {
     "cell_type": "code",
     "checksum": "00542eec788f5c371a2f89cd619c14b9",
     "grade": true,
     "grade_id": "cell-f35d4e7a931228d4",
     "locked": false,
     "points": 5,
     "schema_version": 3,
     "solution": true,
     "task": false
    }
   },
   "outputs": [],
   "source": [
    "#Question 3\n",
    "def randTwoArray(s):\n",
    "\n",
    "    #Run only when the function input is an int\n",
    "    if isinstance(s, int):\n",
    "        a1 = np.random.randint(10, size=s)\n",
    "        a2 = np.random.randint(10, size=s)\n",
    "        return a1, a2\n",
    "    \n",
    "    else:\n",
    "        print(\"The function input is not an integer.\") "
   ]
  },
  {
   "cell_type": "code",
   "execution_count": 7,
   "metadata": {},
   "outputs": [
    {
     "name": "stdout",
     "output_type": "stream",
     "text": [
      "[9 7 6 8]\n",
      "[9 7 2 6]\n",
      "int64\n"
     ]
    }
   ],
   "source": [
    "#Testing Question 3\n",
    "array_1, array_2 = randTwoArray(4)\n",
    "print(array_1)\n",
    "print(array_2)\n",
    "print(array_1.dtype)"
   ]
  },
  {
   "cell_type": "markdown",
   "metadata": {
    "deletable": false,
    "editable": false,
    "nbgrader": {
     "cell_type": "markdown",
     "checksum": "fb933b3ccfebc750cd3ff462aba4a912",
     "grade": false,
     "grade_id": "cell-1c95ed01665df6ca",
     "locked": true,
     "schema_version": 3,
     "solution": false,
     "task": false
    }
   },
   "source": [
    "4) Write a function that takes two NumPy arrays as input and applies the appropriate NumPy function to multiply the two arrays elementwise, returning a new NumPy array. (I.e. you should not overwrite the data in either input array). [2%]"
   ]
  },
  {
   "cell_type": "code",
   "execution_count": 8,
   "metadata": {
    "deletable": false,
    "nbgrader": {
     "cell_type": "code",
     "checksum": "69ff10183c3e6fc1ab124f63c4a42592",
     "grade": true,
     "grade_id": "cell-727387a27435d450",
     "locked": false,
     "points": 2,
     "schema_version": 3,
     "solution": true,
     "task": false
    }
   },
   "outputs": [],
   "source": [
    "#Question 4\n",
    "def multArray(a, b):\n",
    "    \n",
    "    #Check if both data type are the same\n",
    "    if isinstance(a, np.ndarray) and isinstance(b, np.ndarray):\n",
    "        \n",
    "        #Check if the dimensions are the same\n",
    "        if (a.ndim == b.ndim):\n",
    "            \n",
    "            #Check if the size is the same\n",
    "            if (a.size == b.size):\n",
    "                \n",
    "                c = np.multiply(a, b)\n",
    "                return c\n",
    "            \n",
    "            else:\n",
    "                print(\"These two inputs are not equal in size.\")\n",
    "            \n",
    "        else:\n",
    "            print(\"These two inputs are not equal in dimension, must be 1-dimension.\")\n",
    "    \n",
    "    else:\n",
    "        print(\"These two inputs are not NumPy arrays.\")\n"
   ]
  },
  {
   "cell_type": "code",
   "execution_count": 9,
   "metadata": {},
   "outputs": [
    {
     "name": "stdout",
     "output_type": "stream",
     "text": [
      "[81 49 12 48]\n",
      "4\n"
     ]
    }
   ],
   "source": [
    "#Testing Question 4\n",
    "array_3 = multArray(array_1, array_2)\n",
    "print(array_3)\n",
    "print(array_3.size)"
   ]
  },
  {
   "cell_type": "markdown",
   "metadata": {
    "deletable": false,
    "editable": false,
    "nbgrader": {
     "cell_type": "markdown",
     "checksum": "7beb3b48b0331515eaccf87337861d08",
     "grade": false,
     "grade_id": "cell-4d67702b7caa1823",
     "locked": true,
     "schema_version": 3,
     "solution": false,
     "task": false
    }
   },
   "source": [
    "5) Time your functions from Q2 and Q4 on an appropriate range of input sizes (using your solutions to Q1 and Q3 to generate the inputs). Use the data you collect to draw graphs (using matplotlib) that compare the performance of your functions. [10%]"
   ]
  },
  {
   "cell_type": "code",
   "execution_count": 10,
   "metadata": {
    "deletable": false,
    "nbgrader": {
     "cell_type": "code",
     "checksum": "74b0cbbd3278bb136e4e7a0b053a959a",
     "grade": true,
     "grade_id": "cell-7af7ca5f38ace457",
     "locked": false,
     "points": 10,
     "schema_version": 3,
     "solution": true,
     "task": false
    }
   },
   "outputs": [
    {
     "name": "stdout",
     "output_type": "stream",
     "text": [
      "Question 2 Function\n",
      "x = 10000 y = 0.14938420505495742 average = 0.0014938420505495743\n",
      "x = 20000 y = 0.20499351900070906 average = 0.0020499351900070905\n",
      "x = 30000 y = 0.2533260619966313 average = 0.0025332606199663134\n",
      "x = 40000 y = 0.3355989829869941 average = 0.0033559898298699408\n",
      "x = 50000 y = 0.41978668299270794 average = 0.004197866829927079\n",
      "x = 60000 y = 0.5022701999987476 average = 0.005022701999987476\n",
      "x = 70000 y = 0.5860816250205971 average = 0.005860816250205971\n",
      "x = 80000 y = 0.6728311149636284 average = 0.006728311149636283\n",
      "x = 90000 y = 0.7520125629962422 average = 0.0075201256299624215\n",
      "x = 100000 y = 0.8354500550194643 average = 0.008354500550194644\n",
      "Question 4 Function\n",
      "x = 10000 y = 0.0005197809659875929 average = 5.1978096598759295e-06\n",
      "x = 20000 y = 0.0008746539824642241 average = 8.746539824642241e-06\n",
      "x = 30000 y = 0.001298415008932352 average = 1.298415008932352e-05\n",
      "x = 40000 y = 0.002105878957081586 average = 2.105878957081586e-05\n",
      "x = 50000 y = 0.00326146197039634 average = 3.26146197039634e-05\n",
      "x = 60000 y = 0.004731806984636933 average = 4.7318069846369326e-05\n",
      "x = 70000 y = 0.006107377004809678 average = 6.107377004809677e-05\n",
      "x = 80000 y = 0.007427709992043674 average = 7.427709992043675e-05\n",
      "x = 90000 y = 0.008472500019706786 average = 8.472500019706785e-05\n",
      "x = 100000 y = 0.009339989977888763 average = 9.339989977888763e-05\n"
     ]
    }
   ],
   "source": [
    "#Question 5 Section 1\n",
    "#Define Testing Parameters\n",
    "start = 10000 #Starting data size\n",
    "final = 100001 #Max test data size\n",
    "step = 10000 #increments increase in input\n",
    "cycle = 100 #cycle for each input size\n",
    "\n",
    "#Question 2 data extraction\n",
    "print(\"Question 2 Function\")\n",
    "#Collecting data to plot for Q2\n",
    "x_q2 = [] #Collect the size of input\n",
    "y_q2 = [] #We are collection average processing time for single execution\n",
    "\n",
    "for size in range(start, final, step):\n",
    "    x_q2.append(size) #Append input size\n",
    "    a_list, b_list = randTwolist(size)\n",
    "    #avg processing time for single execution Q2\n",
    "    y = timeit.timeit('multList(a_list, b_list)', globals=globals(), number = cycle)\n",
    "    avg_pros = y/cycle \n",
    "    y_q2.append(avg_pros) #Append output time\n",
    "    \n",
    "    print(f\"x = {size} y = {y} average = {avg_pros}\")\n",
    "\n",
    "# #Checking the data gain from the testing cycles\n",
    "# print(\"Question 2, X-axis data\", x_q2)\n",
    "# print(\"Question 2, Y-axis data\", y_q2)  \n",
    "\n",
    "\n",
    "#Question 4 data extraction\n",
    "print(\"Question 4 Function\")\n",
    "\n",
    "#Collecting data to plot for Q4\n",
    "x_q4 = [] #Collect the size of input\n",
    "y_q4 = [] #We are collection average processing time for single execution\n",
    "\n",
    "for size in range(start, final, step):     \n",
    "#for size in testing_range:\n",
    "    x_q4.append(size) #Append input size\n",
    "    a_array, b_array = randTwoArray(size)\n",
    "    #avg processing time for single execution Q4\n",
    "    y = timeit.timeit('multArray(a_array, b_array)', globals=globals(), number =  cycle)\n",
    "    avg_pros = y/cycle \n",
    "    y_q4.append(avg_pros) #Append output time\n",
    "    \n",
    "    print(f\"x = {size} y = {y} average = {avg_pros}\")\n",
    "\n",
    "# #Checking the data gain from the testing cycles\n",
    "# print(\"\")\n",
    "# print(\"Question 4, X-axis data\", x_q4)\n",
    "# print(\"Question 4, Y-axis data\", y_q4)  "
   ]
  },
  {
   "cell_type": "code",
   "execution_count": 11,
   "metadata": {},
   "outputs": [
    {
     "name": "stdout",
     "output_type": "stream",
     "text": [
      "Question 2 Linear function = 7.839504645812806e-08*x + 0.00040000745483363426\n"
     ]
    },
    {
     "data": {
      "image/png": "[encoded data removed]",
      "text/plain": [
       "<Figure size 432x288 with 1 Axes>"
      ]
     },
     "metadata": {
      "needs_background": "light"
     },
     "output_type": "display_data"
    }
   ],
   "source": [
    "#Question 5 Section 2\n",
    "#Creating a plot Q2 vs Q4\n",
    "fig = plt.figure()\n",
    "ax = plt.axes()\n",
    "plt.title(\"Q2 vs Q4 Function Performance\")\n",
    "plt.xlabel(\"Input Sizes\")\n",
    "plt.ylabel(\"Average Single Execution Time\")\n",
    "\n",
    "#Plotting the data Collected\n",
    "plt.plot(x_q2, y_q2, label=\"Q2 function\", color='blue')\n",
    "plt.plot(x_q4, y_q4, label=\"Q4 function\", color='red')\n",
    "\n",
    "#Plotting the linear best fit for Q2\n",
    "p, m = np.polyfit(np.array(x_q2), np.array(y_q2), 1)\n",
    "print(f\"Question 2 Linear function = {p}*x + {m}\")\n",
    "plt.plot(np.array(x_q2), p*np.array(x_q2) + m, '--', color='black')\n",
    "\n",
    "plt.legend()\n",
    "plt.show();"
   ]
  },
  {
   "cell_type": "code",
   "execution_count": 12,
   "metadata": {},
   "outputs": [
    {
     "name": "stdout",
     "output_type": "stream",
     "text": [
      "Question 4 Linear function = 1.070837075398727e-09*x + -1.4756464282982081e-05\n"
     ]
    },
    {
     "data": {
      "image/png": "[encoded data removed]",
      "text/plain": [
       "<Figure size 432x288 with 1 Axes>"
      ]
     },
     "metadata": {
      "needs_background": "light"
     },
     "output_type": "display_data"
    }
   ],
   "source": [
    "#Question 5 Section 3\n",
    "#Creating a plot Q4\n",
    "fig2 = plt.figure()\n",
    "ax = plt.axes()\n",
    "plt.title(\"Q4 Function Performance\")\n",
    "plt.xlabel(\"Input Sizes\")\n",
    "plt.ylabel(\"Average Single Execution Time\")\n",
    "\n",
    "#Plotting the data Collected\n",
    "plt.plot(x_q4, y_q4, label=\"Q4 function\", color='red')\n",
    "\n",
    "#Plotting the linear best fit for Q4\n",
    "p, m = np.polyfit(np.array(x_q4), np.array(y_q4), 1)\n",
    "print(f\"Question 4 Linear function = {p}*x + {m}\")\n",
    "plt.plot(np.array(x_q4), p*np.array(x_q4) + m, '--')\n",
    "\n",
    "plt.legend()\n",
    "plt.show();"
   ]
  },
  {
   "cell_type": "markdown",
   "metadata": {
    "deletable": false,
    "editable": false,
    "nbgrader": {
     "cell_type": "markdown",
     "checksum": "c83f29577a192b50f3143566e8fa312e",
     "grade": false,
     "grade_id": "cell-ae737eed8ab94d52",
     "locked": true,
     "schema_version": 3,
     "solution": false,
     "task": false
    }
   },
   "source": [
    "6) Discuss in 250 words or less what your results show. You should consider the computational complexity of your functions. If you don’t manage to collect any data you should research and discuss what you would expect the results to show. [10%]"
   ]
  },
  {
   "cell_type": "markdown",
   "metadata": {
    "deletable": false,
    "nbgrader": {
     "cell_type": "markdown",
     "checksum": "028a7e91d63e75306fee018e42ca2d17",
     "grade": true,
     "grade_id": "cell-d248947de5cf6274",
     "locked": false,
     "points": 10,
     "schema_version": 3,
     "solution": true,
     "task": false
    }
   },
   "source": [
    "The first graph reveals the average processing time of Question 2 (Q2) function increases in a linear fashion. In contrast, the average processing time for Question 4 (Q4) function remains relatively constant. The difference in the processing time could be attribute to the computational complexity and the distinct data types.\n",
    "\n",
    "To begin, the computational complexity the Big-O notation of Q2 could be represent as O(n) as we use a for loop to goes through all the element within the data. On the other hand, Q4 which is based on NumPy array could be represent as Q(n) as it increase linearly with in the input size, referred to second plot. The drastic computational time difference between these two came from the underlying used of Python build-in list and NumPy array.\n",
    "\n",
    "For the Q2, the increased processing time is due to the underlying use of list data type as this python list data type contains additional pointers to each list element data type. This results in the flexibility to assign mixed data types within the built-in list but with a processing time trade-off.  \n",
    "\n",
    "On the other hand, the Q4 function is created with NumPy arrays, which have a fixed data type. The system would not have to do additional checking to data type on each element. As a result, the NumPy array computation take less time compared to Python list calculation. This is seen in the first figure as the average processing time remains relatively constant when compare to Q2."
   ]
  },
  {
   "cell_type": "markdown",
   "metadata": {
    "deletable": false,
    "editable": false,
    "nbgrader": {
     "cell_type": "markdown",
     "checksum": "5babe10b78b4ded7f17b0f4a4fc7c4aa",
     "grade": false,
     "grade_id": "cell-a69d40e428f818dc",
     "locked": true,
     "schema_version": 3,
     "solution": false,
     "task": false
    }
   },
   "source": [
    "## Section 2 (55%)"
   ]
  },
  {
   "cell_type": "markdown",
   "metadata": {
    "deletable": false,
    "editable": false,
    "nbgrader": {
     "cell_type": "markdown",
     "checksum": "e0e3f3a89411cfe63fec080df9a7e4ec",
     "grade": false,
     "grade_id": "cell-a691fa099f64b58b",
     "locked": true,
     "schema_version": 3,
     "solution": false,
     "task": false
    }
   },
   "source": [
    "7) Write a function to generate two ‘n x n’ matrices of random integer data. Your matrix variables should be objects of type “numpy.ndarray”. The function should take as an argument the desired size of the matrices (the value ‘n’). [5%]"
   ]
  },
  {
   "cell_type": "code",
   "execution_count": 13,
   "metadata": {
    "deletable": false,
    "nbgrader": {
     "cell_type": "code",
     "checksum": "82019857f781e83d6af0e132f54c4153",
     "grade": true,
     "grade_id": "cell-c77ebdb2c8d5ca6d",
     "locked": false,
     "points": 5,
     "schema_version": 3,
     "solution": true,
     "task": false
    }
   },
   "outputs": [],
   "source": [
    "#Question 7\n",
    "def randSqrMat(n):\n",
    "    \n",
    "    #Run only when the function input is a int\n",
    "    if isinstance(n, int):\n",
    "        mx1 = np.random.randint(0,10,(n,n))\n",
    "        mx2 = np.random.randint(0,10,(n,n))\n",
    "        return mx1, mx2\n",
    "    \n",
    "    else:\n",
    "        print(\"The function input is not an integer.\")"
   ]
  },
  {
   "cell_type": "code",
   "execution_count": 14,
   "metadata": {},
   "outputs": [
    {
     "name": "stdout",
     "output_type": "stream",
     "text": [
      "[[6 7 9 1]\n",
      " [9 8 8 5]\n",
      " [0 5 5 5]\n",
      " [4 4 6 4]]\n",
      "\n",
      "[[8 8 2 3]\n",
      " [4 4 0 9]\n",
      " [2 3 7 8]\n",
      " [5 9 0 1]]\n"
     ]
    }
   ],
   "source": [
    "#Testing Question 7\n",
    "mtx1, mtx2 = randSqrMat(4)\n",
    "print(mtx1)\n",
    "print(\"\")\n",
    "print(mtx2)"
   ]
  },
  {
   "cell_type": "markdown",
   "metadata": {
    "deletable": false,
    "editable": false,
    "nbgrader": {
     "cell_type": "markdown",
     "checksum": "7452184858f466616fe53819311946fa",
     "grade": false,
     "grade_id": "cell-5fe1919c38622888",
     "locked": true,
     "schema_version": 3,
     "solution": false,
     "task": false
    }
   },
   "source": [
    "8) Write a function that takes two ‘n x n’ matrices as arguments and calculates the absolute value of the difference between the matrices in an elementwise fashion. I.e. If our matrices variables are ‘A’ and ‘B’ we are calculating |A-B| for each element. Your function should return an ‘n x n’ NumPy array. [7%]"
   ]
  },
  {
   "cell_type": "code",
   "execution_count": 15,
   "metadata": {
    "deletable": false,
    "nbgrader": {
     "cell_type": "code",
     "checksum": "3354c2d112158a11da946dd4fd5a5e07",
     "grade": true,
     "grade_id": "cell-cce33b3f12c5c685",
     "locked": false,
     "points": 7,
     "schema_version": 3,
     "solution": true,
     "task": false
    }
   },
   "outputs": [],
   "source": [
    "#Question 8\n",
    "def absDiffMat(a, b):\n",
    "    \n",
    "     #Check if both data type the same\n",
    "    if isinstance(a, np.ndarray) and isinstance(b, np.ndarray):\n",
    "        \n",
    "        #Check if the dimension is the same\n",
    "        if (a.shape == b.shape):\n",
    "            \n",
    "            c = np.absolute(np.subtract(a, b)) #|A - B|\n",
    "            return c\n",
    "        \n",
    "        else:\n",
    "            print(\"These two inputs are not equal in dimension, must be 'n x n' dimension.\")\n",
    "    \n",
    "    else:\n",
    "        print(\"These two inputs are not NumPy arrays.\")"
   ]
  },
  {
   "cell_type": "code",
   "execution_count": 16,
   "metadata": {},
   "outputs": [
    {
     "name": "stdout",
     "output_type": "stream",
     "text": [
      "[[2 1 7 2]\n",
      " [5 4 8 4]\n",
      " [2 2 2 3]\n",
      " [1 5 6 3]]\n"
     ]
    }
   ],
   "source": [
    "#Testing Question 8\n",
    "mtx3 = absDiffMat(mtx1, mtx2)\n",
    "print(mtx3)"
   ]
  },
  {
   "cell_type": "markdown",
   "metadata": {
    "deletable": false,
    "editable": false,
    "nbgrader": {
     "cell_type": "markdown",
     "checksum": "b8c0143ea9ace57cbefcfbd28fa6f55c",
     "grade": false,
     "grade_id": "cell-f3fc1a68ceeca265",
     "locked": true,
     "schema_version": 3,
     "solution": false,
     "task": false
    }
   },
   "source": [
    "9) Write a function that takes two ‘n x n’ matrices as arguments and applies the built-in NumPy matrix multiplication function on them and returns the result. [3%]"
   ]
  },
  {
   "cell_type": "code",
   "execution_count": 17,
   "metadata": {
    "deletable": false,
    "nbgrader": {
     "cell_type": "code",
     "checksum": "56db8654affbe9af5e0726e987b4be05",
     "grade": true,
     "grade_id": "cell-9c7b7e711763f190",
     "locked": false,
     "points": 3,
     "schema_version": 3,
     "solution": true,
     "task": false
    }
   },
   "outputs": [],
   "source": [
    "#Question 9\n",
    "def multMat(a, b):\n",
    "    \n",
    "     #Check if both data type the same\n",
    "    if isinstance(a, np.ndarray) and isinstance(b, np.ndarray):\n",
    "        \n",
    "        #Check if the dimension is the same\n",
    "        if (a.shape == b.shape):\n",
    "            c = np.dot(a, b) #matrix multiplication is the dot product\n",
    "            return c\n",
    "        \n",
    "        else:\n",
    "            print(\"These two inputs are not equal in dimension, must be 'n x n' dimension.\")\n",
    "    \n",
    "    else:\n",
    "        print(\"These two inputs are not NumPy arrays.\")"
   ]
  },
  {
   "cell_type": "code",
   "execution_count": 18,
   "metadata": {},
   "outputs": [
    {
     "name": "stdout",
     "output_type": "stream",
     "text": [
      "[[ 99 112  75 154]\n",
      " [145 173  74 168]\n",
      " [ 55  80  35  90]\n",
      " [ 80 102  50 100]]\n"
     ]
    }
   ],
   "source": [
    "#Testing Question 9\n",
    "mtx4 = multMat(mtx1, mtx2)\n",
    "print(mtx4)"
   ]
  },
  {
   "cell_type": "markdown",
   "metadata": {
    "deletable": false,
    "editable": false,
    "nbgrader": {
     "cell_type": "markdown",
     "checksum": "06acc85140fd6fa04e9ffd3bd42d6e77",
     "grade": false,
     "grade_id": "cell-d56fb1ae6d029159",
     "locked": true,
     "schema_version": 3,
     "solution": false,
     "task": false
    }
   },
   "source": [
    "10) Write your own function to multiply together two ‘n x n’ matrices. The function should take two ‘n x n’ matrices as arguments, and return the result of the matrix multiplication. You should use appropriate Python loops and no additional library functions. [12%]"
   ]
  },
  {
   "cell_type": "code",
   "execution_count": 19,
   "metadata": {
    "deletable": false,
    "nbgrader": {
     "cell_type": "code",
     "checksum": "8b3b976f482a9bfb33c6e045237e21c1",
     "grade": true,
     "grade_id": "cell-a10f40585014e839",
     "locked": false,
     "points": 12,
     "schema_version": 3,
     "solution": true,
     "task": false
    }
   },
   "outputs": [],
   "source": [
    "#Question 10\n",
    "def multMatLoop(a, b):\n",
    "    \n",
    "    #Check if both data type the same\n",
    "    if isinstance(a, np.ndarray) and isinstance(b, np.ndarray):\n",
    "        \n",
    "        #Check if the dimension is the same\n",
    "        if (a.shape == b.shape):\n",
    "            \n",
    "            #Create a zero matrix with same size and data type\n",
    "            row, col = a.shape\n",
    "            d_type = a.dtype #Extract data type\n",
    "            c = np.zeros((row, col), dtype = d_type)\n",
    "            \n",
    "            #Loop through all the row and column of the elements\n",
    "            for i in range(row): #Access row\n",
    "                for j in range(col): #Access column\n",
    "                    \n",
    "                    #Another loop to sum the dot product for each element\n",
    "                    for k in range(row):\n",
    "                        \n",
    "                        c[i, j] = c[i, j] + (a[i, k] * b[k, j]) #sum each element from A row and B column into C\n",
    "                    \n",
    "            return c\n",
    "        \n",
    "        else:\n",
    "            print(\"These two inputs are not equal in dimension, must be 'n x n' dimension.\")\n",
    "    \n",
    "    else:\n",
    "        print(\"These two inputs are not NumPy arrays.\")"
   ]
  },
  {
   "cell_type": "code",
   "execution_count": 20,
   "metadata": {},
   "outputs": [
    {
     "name": "stdout",
     "output_type": "stream",
     "text": [
      "[[ 99 112  75 154]\n",
      " [145 173  74 168]\n",
      " [ 55  80  35  90]\n",
      " [ 80 102  50 100]]\n",
      "\n",
      "[[6 7 9 1]\n",
      " [9 8 8 5]\n",
      " [0 5 5 5]\n",
      " [4 4 6 4]]\n",
      "\n",
      "[[6 7 9 1]\n",
      " [9 8 8 5]\n",
      " [0 5 5 5]\n",
      " [4 4 6 4]]\n",
      "\n",
      "[[6. 7. 9. 1.]\n",
      " [9. 8. 8. 5.]\n",
      " [0. 5. 5. 5.]\n",
      " [4. 4. 6. 4.]]\n"
     ]
    }
   ],
   "source": [
    "#Testing Question 10\n",
    "mtx5 = multMatLoop(mtx1, mtx2)\n",
    "print(mtx5)\n",
    "\n",
    "#Checking wheter the code works with identity matrix \n",
    "# A * I = I * A ;when I is an identiy matrix\n",
    "idt_mtx = np.identity(4)\n",
    "print(\"\")\n",
    "print(mtx1)\n",
    "print(\"\")\n",
    "print(multMatLoop(mtx1, idt_mtx))\n",
    "print(\"\")\n",
    "print(multMatLoop(idt_mtx, mtx1))"
   ]
  },
  {
   "cell_type": "markdown",
   "metadata": {
    "deletable": false,
    "editable": false,
    "nbgrader": {
     "cell_type": "markdown",
     "checksum": "2289505026b85b75b43b1cef26a91600",
     "grade": false,
     "grade_id": "cell-87214a7ffc18e077",
     "locked": true,
     "schema_version": 3,
     "solution": false,
     "task": false
    }
   },
   "source": [
    "11) Using the appropriate comparison operators, check to see if your function for Q10 returns the same answer as the function you wrote for Q9 when given the same input. If the answer match, then print a statement to say they match, if the answers are different then print a statement to say they are different. [3%]"
   ]
  },
  {
   "cell_type": "code",
   "execution_count": 21,
   "metadata": {
    "deletable": false,
    "nbgrader": {
     "cell_type": "code",
     "checksum": "f53a281feef0259e7b302d92cf06299b",
     "grade": true,
     "grade_id": "cell-afa21501c4915f03",
     "locked": false,
     "points": 3,
     "schema_version": 3,
     "solution": true,
     "task": false
    }
   },
   "outputs": [],
   "source": [
    "#Question 11\n",
    "def testSameMat(a, b):\n",
    "    \n",
    "    #Check if both data type the same\n",
    "    if isinstance(a, np.ndarray) and isinstance(b, np.ndarray):\n",
    "        \n",
    "        #Check if the dimension is the same\n",
    "        if (a.shape == b.shape):\n",
    "            \n",
    "            #Testing for all elements, wheter equal or not\n",
    "            if ((a == b).all()):\n",
    "                print(\"All elements from both arrays matched.\")\n",
    "                \n",
    "            else:\n",
    "                print(\"The arrays elements does not mached.\")\n",
    "                \n",
    "        else:\n",
    "            print(\"These two inputs are not equal in dimension, must be 'n x n' dimension.\")\n",
    "    \n",
    "    else:\n",
    "        print(\"These two inputs are not NumPy arrays.\")"
   ]
  },
  {
   "cell_type": "code",
   "execution_count": 22,
   "metadata": {},
   "outputs": [
    {
     "name": "stdout",
     "output_type": "stream",
     "text": [
      "[[ 99 112  75 154]\n",
      " [145 173  74 168]\n",
      " [ 55  80  35  90]\n",
      " [ 80 102  50 100]]\n",
      "\n",
      "[[ 99 112  75 154]\n",
      " [145 173  74 168]\n",
      " [ 55  80  35  90]\n",
      " [ 80 102  50 100]]\n",
      "\n",
      "All elements from both arrays matched.\n",
      "The arrays elements does not mached.\n"
     ]
    }
   ],
   "source": [
    "#Testing Question 11\n",
    "print(mtx4) #by np.dot function\n",
    "print(\"\")\n",
    "print(mtx5) #by three loops\n",
    "print(\"\")\n",
    "testSameMat(mtx4, mtx5)\n",
    "testSameMat(mtx1, mtx2) #Generated through random"
   ]
  },
  {
   "cell_type": "markdown",
   "metadata": {
    "deletable": false,
    "editable": false,
    "nbgrader": {
     "cell_type": "markdown",
     "checksum": "6c303c80f7ceab829783427a557f120f",
     "grade": false,
     "grade_id": "cell-1992ab3b0d5c79ee",
     "locked": true,
     "schema_version": 3,
     "solution": false,
     "task": false
    }
   },
   "source": [
    "12) Time your functions from Q8, Q9 and Q10 on an appropriate range of input sizes (using your solution to Q7 to generate the inputs). Use the data you collect to draw graphs (using matplotlib) that compare the performance of your functions. You may want to consider comparing all three functions with each other to start with and then maybe analyse some functions in greater detail. [15%]"
   ]
  },
  {
   "cell_type": "code",
   "execution_count": 23,
   "metadata": {
    "deletable": false,
    "nbgrader": {
     "cell_type": "code",
     "checksum": "2ddcc684e2c1f3263db11f752c3608f7",
     "grade": true,
     "grade_id": "cell-2cdd496e05efc762",
     "locked": false,
     "points": 15,
     "schema_version": 3,
     "solution": true,
     "task": false
    }
   },
   "outputs": [
    {
     "name": "stdout",
     "output_type": "stream",
     "text": [
      "Question 8\n",
      "x = 20 y = 4.121399251744151e-05 average = 4.1213992517441515e-06\n",
      "x = 40 y = 5.5629992857575417e-05 average = 5.562999285757542e-06\n",
      "x = 60 y = 6.323499837890267e-05 average = 6.323499837890267e-06\n",
      "x = 80 y = 8.08300101198256e-05 average = 8.08300101198256e-06\n",
      "x = 100 y = 0.0001568049774505198 average = 1.568049774505198e-05\n",
      "x = 120 y = 0.00016930996207520366 average = 1.6930996207520365e-05\n",
      "x = 140 y = 0.00021309201838448644 average = 2.1309201838448643e-05\n",
      "x = 160 y = 0.0002877400256693363 average = 2.877400256693363e-05\n",
      "x = 180 y = 0.0004226280143484473 average = 4.2262801434844734e-05\n",
      "x = 200 y = 0.0006669590366072953 average = 6.669590366072952e-05\n",
      "Question 9\n",
      "x = 20 y = 9.98209579847753e-05 average = 9.98209579847753e-06\n",
      "x = 40 y = 0.0005808289861306548 average = 5.808289861306548e-05\n",
      "x = 60 y = 0.0016666700248606503 average = 0.00016666700248606502\n",
      "x = 80 y = 0.004165666992776096 average = 0.0004165666992776096\n",
      "x = 100 y = 0.007233073003590107 average = 0.0007233073003590107\n",
      "x = 120 y = 0.012186508974991739 average = 0.0012186508974991739\n",
      "x = 140 y = 0.019227950018830597 average = 0.0019227950018830598\n",
      "x = 160 y = 0.03603484597988427 average = 0.0036034845979884267\n",
      "x = 180 y = 0.043153394013643265 average = 0.004315339401364327\n",
      "x = 200 y = 0.061891289020422846 average = 0.006189128902042285\n",
      "Question 10\n",
      "x = 20 y = 0.05552964401431382 average = 0.005552964401431382\n",
      "x = 40 y = 0.41337302199099213 average = 0.041337302199099216\n",
      "x = 60 y = 1.4137551379972138 average = 0.14137551379972138\n",
      "x = 80 y = 3.3630367419682443 average = 0.33630367419682444\n",
      "x = 100 y = 6.485765430959873 average = 0.6485765430959873\n",
      "x = 120 y = 10.965847706014756 average = 1.0965847706014755\n",
      "x = 140 y = 17.733394804992713 average = 1.7733394804992713\n",
      "x = 160 y = 27.09760792099405 average = 2.709760792099405\n",
      "x = 180 y = 38.197814707004 average = 3.8197814707004\n",
      "x = 200 y = 50.298480313969776 average = 5.029848031396978\n"
     ]
    },
    {
     "data": {
      "text/plain": [
       "'\\n!!PLEASE NOTE!!\\nIt takes around 2-3 minutes to load the Question 10 data.\\n'"
      ]
     },
     "execution_count": 23,
     "metadata": {},
     "output_type": "execute_result"
    }
   ],
   "source": [
    "#Question 12 Section 1\n",
    "#Extracting the plot data of Q8, Q9, and Q10 functions.\n",
    "\n",
    "#Define Testing Parameters\n",
    "start_2 = 20 #Starting data size\n",
    "final_2 = 201 #Max test data size\n",
    "step_2 = 20 #increments increase in input\n",
    "cycle_2 = 10 #cycle for each input size\n",
    "\n",
    "'''\n",
    "In ideal cases, we should explore wider range of inputs to see the function behavior. \n",
    "However, in this question, the matrix involved makes the processing time substancially increase.\n",
    "Hence, I am limited to the most practical range to visualize the underlying time complexity.\n",
    "Also, the range is selected with the 20 minutes timeout in mind for the automated script runner.\n",
    "'''\n",
    "\n",
    "#Question 8 data extraction\n",
    "print(\"Question 8\")\n",
    "#Collecting data to plot\n",
    "x_q8 = [] #Collect the size of input\n",
    "y_q8 = [] #We are collection average processing time for single execution\n",
    "\n",
    "for size in range(start_2, final_2, step_2):\n",
    "#for size in testing_range_2:\n",
    "    x_q8.append(size) #Append input size\n",
    "    mat1, mat2 = randSqrMat(size)\n",
    "    #avg processing time for single execution Q8\n",
    "    y = timeit.timeit('absDiffMat(mat1, mat2)', globals=globals(), number = cycle_2)\n",
    "    avg_pros = y/cycle_2 \n",
    "    y_q8.append(avg_pros) #Append output time\n",
    "    \n",
    "    print(f\"x = {size} y = {y} average = {avg_pros}\")\n",
    "    \n",
    "    \n",
    "#Question 9 data extraction\n",
    "print(\"Question 9\")\n",
    "#Collecting data to plot\n",
    "x_q9 = [] #Collect the size of input\n",
    "y_q9 = [] #We are collection average processing time for single execution\n",
    "\n",
    "for size in range(start_2, final_2, step_2):\n",
    "#for size in testing_range_2:\n",
    "    x_q9.append(size) #Append input size\n",
    "    mat1, mat2 = randSqrMat(size)\n",
    "    #avg processing time for single execution Q9\n",
    "    y = timeit.timeit('multMat(mat1, mat2)', globals=globals(), number = cycle_2)\n",
    "    avg_pros = y/cycle_2 \n",
    "    y_q9.append(avg_pros) #Append output time\n",
    "    \n",
    "    print(f\"x = {size} y = {y} average = {avg_pros}\")\n",
    "\n",
    "\n",
    "#Question 10 data extraction\n",
    "print(\"Question 10\")\n",
    "#Collecting data to plot\n",
    "x_q10 = [] #Collect the size of input\n",
    "y_q10 = [] #We are collection average processing time for single execution\n",
    "\n",
    "for size in range(start_2, final_2, step_2):\n",
    "#for size in testing_range_2:\n",
    "    x_q10.append(size) #Append input size\n",
    "    mat1, mat2 = randSqrMat(size)\n",
    "    #avg processing time for single execution Q10\n",
    "    y = timeit.timeit('multMatLoop(mat1, mat2)', globals=globals(), number = cycle_2)\n",
    "    avg_pros = y/cycle_2 \n",
    "    y_q10.append(avg_pros) #Append output time\n",
    "    \n",
    "    print(f\"x = {size} y = {y} average = {avg_pros}\")  \n",
    "\n",
    "'''\n",
    "!!PLEASE NOTE!!\n",
    "It takes around 2-3 minutes to load the Question 10 data.\n",
    "'''"
   ]
  },
  {
   "cell_type": "code",
   "execution_count": 24,
   "metadata": {},
   "outputs": [
    {
     "data": {
      "image/png": "[encoded data removed]",
      "text/plain": [
       "<Figure size 432x288 with 1 Axes>"
      ]
     },
     "metadata": {
      "needs_background": "light"
     },
     "output_type": "display_data"
    }
   ],
   "source": [
    "#Question 12 Section 2\n",
    "#Plotting the graph Q8 vs Q9 vs Q10\n",
    "\n",
    "#Creating a plot\n",
    "fig3 = plt.figure()\n",
    "ax = plt.axes()\n",
    "plt.title(\"Q8 vs Q9 vs Q10 Function Performance\")\n",
    "plt.xlabel(\"Input Sizes\")\n",
    "plt.ylabel(\"Average Single Execution Time\")\n",
    "\n",
    "#Plotting the data Collected\n",
    "plt.plot(x_q8, y_q8, label=\"Q8 function\", color='blue')\n",
    "plt.plot(x_q9, y_q9, label=\"Q9 function\", color='orange', linestyle='dashed')\n",
    "plt.plot(x_q10, y_q10, label=\"Q10 function\", color='green')\n",
    "\n",
    "plt.legend()\n",
    "plt.show();"
   ]
  },
  {
   "cell_type": "code",
   "execution_count": 25,
   "metadata": {},
   "outputs": [
    {
     "name": "stdout",
     "output_type": "stream",
     "text": [
      "Question 10 Cubic function = 4.444561234669805e-07*x^3 + 5.952202182987552e-05*x^2 + -0.004781961386007105*x + 0.09403885178966383\n"
     ]
    },
    {
     "data": {
      "image/png": "[encoded data removed]",
      "text/plain": [
       "<Figure size 432x288 with 1 Axes>"
      ]
     },
     "metadata": {
      "needs_background": "light"
     },
     "output_type": "display_data"
    }
   ],
   "source": [
    "#Question 12 Section 3\n",
    "#Plotting the graph Q10 with fitted curve\n",
    "\n",
    "#Creating a plot\n",
    "fig4 = plt.figure()\n",
    "ax = plt.axes()\n",
    "plt.title(\"Q10 Function and O(x^3)\")\n",
    "plt.xlabel(\"Input Sizes\")\n",
    "plt.ylabel(\"Average Single Execution Time\")\n",
    "\n",
    "#Plotting the data Collected\n",
    "plt.plot(x_q10, y_q10, label=\"Q10 function\", color='green')\n",
    "\n",
    "#Plotting the Cubic best fit for Q10\n",
    "#This from the use of three loops in the function. Hence the suspected behavior is O(n^3)\n",
    "p, m, n, k = np.polyfit(np.array(x_q10), np.array(y_q10), 3)\n",
    "print(f\"Question 10 Cubic function = {p}*x^3 + {m}*x^2 + {n}*x + {k}\")\n",
    "plt.plot(np.array(x_q10), (p*pow(np.array(x_q10),3) + m*pow(np.array(x_q10),2) + n*np.array(x_q10) + k), label='O(x^3)', color='red', linestyle='dashdot')\n",
    "\n",
    "plt.legend()\n",
    "plt.show();"
   ]
  },
  {
   "cell_type": "code",
   "execution_count": 26,
   "metadata": {},
   "outputs": [
    {
     "name": "stdout",
     "output_type": "stream",
     "text": [
      "Question 8 with increase input\n",
      "x = 100 y = 0.0002069289912469685 average = 2.069289912469685e-05\n",
      "x = 200 y = 0.0005818860372528434 average = 5.818860372528434e-05\n",
      "x = 300 y = 0.0020338239846751094 average = 0.00020338239846751094\n",
      "x = 400 y = 0.0030686139944009483 average = 0.00030686139944009484\n",
      "x = 500 y = 0.018191775016020983 average = 0.0018191775016020983\n",
      "x = 600 y = 0.027563753013964742 average = 0.0027563753013964743\n",
      "x = 700 y = 0.03994029696332291 average = 0.003994029696332291\n",
      "x = 800 y = 0.03506073000608012 average = 0.003506073000608012\n",
      "x = 900 y = 0.03852519200881943 average = 0.003852519200881943\n",
      "x = 1000 y = 0.05237114703049883 average = 0.005237114703049883\n",
      "x = 1100 y = 0.06231525301700458 average = 0.006231525301700458\n",
      "x = 1200 y = 0.08158730500144884 average = 0.008158730500144883\n",
      "Question 9 with increase input\n",
      "x = 100 y = 0.007319765049032867 average = 0.0007319765049032867\n",
      "x = 200 y = 0.06287837499985471 average = 0.0062878374999854715\n",
      "x = 300 y = 0.22182673297356814 average = 0.022182673297356813\n",
      "x = 400 y = 0.7168462179834023 average = 0.07168462179834023\n",
      "x = 500 y = 1.4592886439641006 average = 0.14592886439641006\n",
      "x = 600 y = 2.4055778539623134 average = 0.24055778539623135\n",
      "x = 700 y = 4.1798592419945635 average = 0.41798592419945635\n",
      "x = 800 y = 5.993396817008033 average = 0.5993396817008033\n",
      "x = 900 y = 8.989442605990916 average = 0.8989442605990916\n",
      "x = 1000 y = 10.211768564011436 average = 1.0211768564011436\n",
      "x = 1100 y = 13.937714886036702 average = 1.39377148860367\n",
      "x = 1200 y = 18.67289134999737 average = 1.8672891349997371\n"
     ]
    }
   ],
   "source": [
    "#Question 12 Section 4\n",
    "#Plotting the graph for Q8 and Q9 function as we could not clearly visualized on the last plot\n",
    "\n",
    "#Define Testing Parameters\n",
    "start_3 = 100 #Starting data size\n",
    "final_3 = 1201 #Max test data size\n",
    "step_3 = 100 #increments increase in input\n",
    "cycle_3 = 10 #cycle for each input size\n",
    "\n",
    "#Question 8 data extraction\n",
    "print(\"Question 8 with increase input\")\n",
    "#Collecting data to plot\n",
    "x_q8_2 = [] #Collect the size of input\n",
    "y_q8_2 = [] #We are collection average processing time for single execution\n",
    "\n",
    "for size in range(start_3, final_3, step_3):\n",
    "    x_q8_2.append(size) #Append input size\n",
    "    mat1, mat2 = randSqrMat(size)\n",
    "    #avg processing time for single execution Q8\n",
    "    y = timeit.timeit('absDiffMat(mat1, mat2)', globals=globals(), number = cycle_3)\n",
    "    avg_pros = y/cycle_3\n",
    "    y_q8_2.append(avg_pros) #Append output time\n",
    "    \n",
    "    print(f\"x = {size} y = {y} average = {avg_pros}\") \n",
    "\n",
    "\n",
    "#Question 9 data extraction\n",
    "print(\"Question 9 with increase input\")\n",
    "#Collecting data to plot\n",
    "x_q9_2 = [] #Collect the size of input\n",
    "y_q9_2 = [] #We are collection average processing time for single execution\n",
    "\n",
    "for size in range(start_3, final_3, step_3):\n",
    "    x_q9_2.append(size) #Append input size\n",
    "    mat1, mat2 = randSqrMat(size)\n",
    "    #avg processing time for single execution Q9\n",
    "    y = timeit.timeit('multMat(mat1, mat2)', globals=globals(), number = cycle_3)\n",
    "    avg_pros = y/cycle_3\n",
    "    y_q9_2.append(avg_pros) #Append output time\n",
    "    \n",
    "    print(f\"x = {size} y = {y} average = {avg_pros}\")"
   ]
  },
  {
   "cell_type": "code",
   "execution_count": 27,
   "metadata": {},
   "outputs": [
    {
     "name": "stdout",
     "output_type": "stream",
     "text": [
      "Question 9 Cubic = 7.662216992248215e-10*x^3 + 4.4451641632230216e-07*x^2 + -0.00011445289418980556*x + 0.00229701299156958\n"
     ]
    },
    {
     "data": {
      "image/png": "[encoded data removed]",
      "text/plain": [
       "<Figure size 432x288 with 1 Axes>"
      ]
     },
     "metadata": {
      "needs_background": "light"
     },
     "output_type": "display_data"
    }
   ],
   "source": [
    "#Question 12 Section 5\n",
    "#Plotting the graph for Q8 and Q9 function as we could not clearly visualized on the last plot\n",
    "\n",
    "#Creating a plot\n",
    "fig5 = plt.figure()\n",
    "ax = plt.axes()\n",
    "plt.title(\"Q8 vs Q9 Function Performance\")\n",
    "plt.xlabel(\"Input Sizes\")\n",
    "plt.ylabel(\"Average Single Execution Time\")\n",
    "\n",
    "#Plotting the data Collected\n",
    "plt.plot(x_q8_2, y_q8_2, label=\"Q8 function\", color='blue')\n",
    "plt.plot(x_q9_2, y_q9_2, label=\"Q9 function\", color='red')\n",
    "\n",
    "#Plotting the Cubic best fit for Q9\n",
    "p, m, n, k = np.polyfit(np.array(x_q9_2), np.array(y_q9_2), 3)\n",
    "print(f\"Question 9 Cubic = {p}*x^3 + {m}*x^2 + {n}*x + {k}\")\n",
    "plt.plot(np.array(x_q9_2), (p*pow(np.array(x_q9_2),3) + m*pow(np.array(x_q9_2),2) + n*np.array(x_q9_2) + k), label='O(x^3)', color='green', linestyle='dashdot')\n",
    "\n",
    "plt.legend()\n",
    "plt.show();"
   ]
  },
  {
   "cell_type": "code",
   "execution_count": 28,
   "metadata": {},
   "outputs": [
    {
     "name": "stdout",
     "output_type": "stream",
     "text": [
      "Question 8 Quadratic = 3.774868181990837e-09*x^2 + 2.2374685635600935e-06*x + -0.00048701895601962694\n"
     ]
    },
    {
     "data": {
      "image/png": "[encoded data removed]",
      "text/plain": [
       "<Figure size 432x288 with 1 Axes>"
      ]
     },
     "metadata": {
      "needs_background": "light"
     },
     "output_type": "display_data"
    }
   ],
   "source": [
    "#Question 12 Section 5\n",
    "#Plotting the graph for Q8 as we could not clearly visualized the behavior from the last.\n",
    "\n",
    "#Creating a plot\n",
    "fig6 = plt.figure()\n",
    "ax = plt.axes()\n",
    "plt.title(\"Q8 Function Performance\")\n",
    "plt.xlabel(\"Input Sizes\")\n",
    "plt.ylabel(\"Average Single Execution Time\")\n",
    "\n",
    "plt.plot(x_q8_2, y_q8_2, label=\"Q8 function\", color='blue')\n",
    "\n",
    "#Plotting the Quadratic best fit for Q8\n",
    "p, m, n = np.polyfit(np.array(x_q8_2), np.array(y_q8_2), 2)\n",
    "print(f\"Question 8 Quadratic = {p}*x^2 + {m}*x + {n}\")\n",
    "plt.plot(np.array(x_q8_2), (p*pow(np.array(x_q8_2),2) + m*np.array(x_q8_2) + n), label='O(x^2)', color='black', linestyle='dashdot')\n",
    "\n",
    "plt.legend()\n",
    "plt.show();"
   ]
  },
  {
   "cell_type": "markdown",
   "metadata": {
    "deletable": false,
    "editable": false,
    "nbgrader": {
     "cell_type": "markdown",
     "checksum": "386396f23fe9fd5bd9ac8e69beb5aa4d",
     "grade": false,
     "grade_id": "cell-529ea8e41c970c14",
     "locked": true,
     "schema_version": 3,
     "solution": false,
     "task": false
    }
   },
   "source": [
    "13) Discuss in 250 words or less what your results show. You should consider the computational complexity of your functions. If you don’t manage to collect any data to discuss you should research and discuss what you would expect the results to show. [10%]"
   ]
  },
  {
   "cell_type": "markdown",
   "metadata": {
    "deletable": false,
    "nbgrader": {
     "cell_type": "markdown",
     "checksum": "a6c1f5981056c0b448a150a63191d6ba",
     "grade": true,
     "grade_id": "cell-e0e7def154df21da",
     "locked": false,
     "points": 10,
     "schema_version": 3,
     "solution": true,
     "task": false
    }
   },
   "source": [
    "The average single execution plot of Q8, Q9, and Q10 revealed the underlying computational complexity of each function with Q10 scales the fastest among these three. This is due to the use of a total of three loops: two loops to run through each element within the arrays and another loop to calculate the dot product. The operations for Q10 would have a dominant term of O(n^3). We confirm this behavior in the subsequent plot where cubic polynomial fits with the Q10 function behavior. Also, the use of these loops is not as efficient as using the optimized NumPy functions. With these reasons combined made the Q10 the most inefficient compared to other two.\n",
    "\n",
    "As for Q9, which utilized “np.dot(A, B)” instead of the loops is more efficient than Q10 even though the time complexity is the same at O(n^3). This is because NumPy utilizes Basic Linear Algebra Subprograms (BLAS) libraries to optimize calculations for matrixes (NumPy Developers, no date). \n",
    "\n",
    "On the other hand, Q8, |A-B| have two operations the minus and the absolute. Therefore, the theoretical complexity of Q8 should be O(1) or constant with two operations. Nevertheless, as A and B are matrixes, the complexity of the Q8 would depends on the time used to access those elements, which are rows and columns. Therefore, the time complexity for Q8 is O(n^2). We confirm this assumption with the best fit line for quadratic, in the last figure.\n",
    "\n",
    "**References:**\n",
    "\n",
    "NumPy Developers (no date) Numpy.dot, numpy.dot - NumPy v1.26 Manual. Available at: https://numpy.org/doc/stable/reference/generated/numpy.dot.html (Accessed: 28 October 2023). "
   ]
  },
  {
   "cell_type": "markdown",
   "metadata": {
    "deletable": false,
    "editable": false,
    "nbgrader": {
     "cell_type": "markdown",
     "checksum": "b744e851d8487bb664ec5628372272ad",
     "grade": false,
     "grade_id": "cell-65eafc932ba49291",
     "locked": true,
     "schema_version": 3,
     "solution": false,
     "task": false
    }
   },
   "source": [
    "## Section 3 (10%)"
   ]
  },
  {
   "cell_type": "markdown",
   "metadata": {
    "deletable": false,
    "editable": false,
    "nbgrader": {
     "cell_type": "markdown",
     "checksum": "e0c0ea748ad5b143f22f54e7c7179690",
     "grade": false,
     "grade_id": "cell-5669218f332bdcc5",
     "locked": true,
     "schema_version": 3,
     "solution": false,
     "task": false
    }
   },
   "source": [
    "14) In 250 words or less, reflect on the taught content and the learning outcomes of this module and identify the three most important points that you will take into future modules. [10%]"
   ]
  },
  {
   "cell_type": "markdown",
   "metadata": {
    "deletable": false,
    "nbgrader": {
     "cell_type": "markdown",
     "checksum": "a1a22a95dd87b357fcf84478a660fcda",
     "grade": true,
     "grade_id": "cell-e0efa57ad29309e7",
     "locked": false,
     "points": 10,
     "schema_version": 3,
     "solution": true,
     "task": false
    }
   },
   "source": [
    "This Introduction to Computer Science module has provided me with programming foundations, which are essential in my journey towards the Data Science postgraduate program. It introduced and equipped me with Python programming skills and the ability to logically express my ideas. The weekly workshops provided hands-on opportunities to tinker and test learned concepts from the lectures, which accelerated my learning. I identified three key takeaways from this course which is applicable to future modules. First, it introduces fundamental programming skills in Python such as variables, data types, conditional, loops, and functions. These concepts are foundation of the more advance concept of Machine Learning, which will be introduced in the second semester. Moreover, these core concepts are universal and thus transferable when learning other programming languages (e.g., Java and C).  Secondly, with larger data sets, algorithmic complexity plays a big part in the total efficiency of the computer algorithm. Being aware of this concern would aid me in selecting appropriate data structures and implementing efficient algorithms for complex and intensive data science projects. Lastly, the professor presents us with the backbone third-party modules for data science, which are NumPy and Matplotlib alongside other additional modules. In particular, NumPy with its efficiency in performing linear algebra mathematical calculations makes it an indispensable tool for data scientists. Overall, this course has improved my self-confidence and lay solid technical background to tackle future challenges."
   ]
  },
  {
   "cell_type": "code",
   "execution_count": null,
   "metadata": {},
   "outputs": [],
   "source": []
  }
 ],
 "metadata": {
  "kernelspec": {
   "display_name": "Python 3",
   "language": "python",
   "name": "python3"
  },
  "language_info": {
   "codemirror_mode": {
    "name": "ipython",
    "version": 3
   },
   "file_extension": ".py",
   "mimetype": "text/x-python",
   "name": "python",
   "nbconvert_exporter": "python",
   "pygments_lexer": "ipython3",
   "version": "3.11.9"
  }
 },
 "nbformat": 4,
 "nbformat_minor": 4
}
