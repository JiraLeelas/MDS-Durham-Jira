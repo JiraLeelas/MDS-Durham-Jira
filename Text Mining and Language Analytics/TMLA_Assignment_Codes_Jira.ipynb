{
 "cells": [
  {
   "cell_type": "markdown",
   "metadata": {},
   "source": [
    "## Before you turn this coursework in, make sure everything runs as expected. First, **restart the kernel** (in the menubar, select Kernel$\\rightarrow$Restart) and then **run all cells** (in the menubar, select Cell$\\rightarrow$Run All)."
   ]
  },
  {
   "cell_type": "code",
   "execution_count": 1,
   "metadata": {},
   "outputs": [],
   "source": [
    "NAME = \"Z0194160\"\n",
    "CIS_USERNAME = \"bqxt46\""
   ]
  },
  {
   "cell_type": "markdown",
   "metadata": {},
   "source": [
    "---"
   ]
  },
  {
   "cell_type": "markdown",
   "metadata": {
    "deletable": false,
    "editable": false,
    "nbgrader": {
     "cell_type": "markdown",
     "checksum": "c2ed8244d1822167b9619a27c5056a2d",
     "grade": false,
     "grade_id": "cell-c772e32fbd55cccd",
     "locked": true,
     "schema_version": 3,
     "solution": false,
     "task": false
    }
   },
   "source": [
    "# COMP42415 Text Mining and Language Analytics\n",
    "## Coursework 2023-24\n",
    "\n",
    "### Instructions:\n",
    "\n",
    "- <ins>**DO NOT RENAME THIS JUPYTER NOTEBOOK !!!**</ins>\n",
    "- Please write the answers for each question in the respective cell. \n",
    "- You can add more cells if needed.\n",
    "- If needed, you can upload additional files, e.g. pre-trained word embeddings, in the coursework's directory\n",
    "- You can safely remove the `raise NotImplementedError()` line from each code cell.\n",
    "- You can find information about markdown syntax from [here](https://www.markdownguide.org/basic-syntax/#emphasis)."
   ]
  },
  {
   "cell_type": "markdown",
   "metadata": {
    "deletable": false,
    "editable": false,
    "nbgrader": {
     "cell_type": "markdown",
     "checksum": "068e2a188a6a3db5c142be9d8afbb053",
     "grade": false,
     "grade_id": "cell-7f0204ddaabf431f",
     "locked": true,
     "schema_version": 3,
     "solution": false,
     "task": false
    }
   },
   "source": [
    "## Implementation - Task 1\n",
    "Prepare the dataset by applying any pre-processing or cleaning steps that you consider as necessary. Then, split the dataset into a training set containing 70% of the samples and a test set containing 30% of the samples. Follow an appropriate strategy for the split. You must use these training/test sets for all the models in this coursework. (**10%**)"
   ]
  },
  {
   "cell_type": "code",
   "execution_count": 2,
   "metadata": {
    "deletable": false,
    "nbgrader": {
     "cell_type": "code",
     "checksum": "9d8184a650c6efb613adc101bb08baf9",
     "grade": true,
     "grade_id": "cell-1ec6ac90f0506a35",
     "locked": false,
     "points": 10,
     "schema_version": 3,
     "solution": true,
     "task": false
    }
   },
   "outputs": [
    {
     "name": "stderr",
     "output_type": "stream",
     "text": [
      "<ipython-input-2-d7ac29422cc9>:2: DeprecationWarning: \n",
      "Pyarrow will become a required dependency of pandas in the next major release of pandas (pandas 3.0),\n",
      "(to allow more performant data types, such as the Arrow string type, and better interoperability with other libraries)\n",
      "but was not found to be installed on your system.\n",
      "If this would cause problems for you,\n",
      "please provide us feedback at https://github.com/pandas-dev/pandas/issues/54466\n",
      "        \n",
      "  import pandas as pd\n"
     ]
    }
   ],
   "source": [
    "## Importing Libraries\n",
    "import pandas as pd\n",
    "import numpy as np\n",
    "import matplotlib.pyplot as plt\n",
    "import re\n",
    "from nltk import word_tokenize, sent_tokenize\n",
    "from string import punctuation\n",
    "from nltk.corpus import stopwords\n",
    "from nltk import pos_tag\n",
    "from nltk.stem import WordNetLemmatizer\n",
    "from sklearn.model_selection import train_test_split\n",
    "import keras\n",
    "import tensorflow as tf\n",
    "import tensorflow.keras\n",
    "import pickle\n",
    "import random\n",
    "\n",
    "## Set Seed For Reproducibility\n",
    "SEED = 42\n",
    "\n",
    "random.seed(SEED)\n",
    "np.random.seed(SEED)\n",
    "keras.utils.set_random_seed(SEED)\n",
    "tf.random.set_seed(SEED)\n",
    "tf.config.experimental.enable_op_determinism()"
   ]
  },
  {
   "cell_type": "code",
   "execution_count": 3,
   "metadata": {},
   "outputs": [
    {
     "name": "stdout",
     "output_type": "stream",
     "text": [
      "Unprocessed Food Reviews\n",
      "Total Rows:\t 540031\n",
      "Total Columns:\t 3\n",
      "Duplicated Rows: 162009 (30.00%)\n",
      "\n",
      "Remove Duplicated Food Reviews\n",
      "Total Rows:\t 378022\n",
      "Total Columns:\t 3\n",
      "\n",
      "Missing Values in Each Column Check\n",
      "Score      0\n",
      "Summary    3\n",
      "Text       0\n",
      "dtype: int64\n"
     ]
    },
    {
     "data": {
      "text/html": [
       "<div>\n",
       "<style scoped>\n",
       "    .dataframe tbody tr th:only-of-type {\n",
       "        vertical-align: middle;\n",
       "    }\n",
       "\n",
       "    .dataframe tbody tr th {\n",
       "        vertical-align: top;\n",
       "    }\n",
       "\n",
       "    .dataframe thead th {\n",
       "        text-align: right;\n",
       "    }\n",
       "</style>\n",
       "<table border=\"1\" class=\"dataframe\">\n",
       "  <thead>\n",
       "    <tr style=\"text-align: right;\">\n",
       "      <th></th>\n",
       "      <th>Score</th>\n",
       "      <th>Summary</th>\n",
       "      <th>Text</th>\n",
       "    </tr>\n",
       "  </thead>\n",
       "  <tbody>\n",
       "    <tr>\n",
       "      <th>17424</th>\n",
       "      <td>2</td>\n",
       "      <td>NaN</td>\n",
       "      <td>I only used two maybe three tea bags and got p...</td>\n",
       "    </tr>\n",
       "    <tr>\n",
       "      <th>365628</th>\n",
       "      <td>3</td>\n",
       "      <td>NaN</td>\n",
       "      <td>I like the product and tried it before I pucha...</td>\n",
       "    </tr>\n",
       "    <tr>\n",
       "      <th>525663</th>\n",
       "      <td>3</td>\n",
       "      <td>NaN</td>\n",
       "      <td>This is a cool system only problem is that the...</td>\n",
       "    </tr>\n",
       "  </tbody>\n",
       "</table>\n",
       "</div>"
      ],
      "text/plain": [
       "        Score Summary                                               Text\n",
       "17424       2     NaN  I only used two maybe three tea bags and got p...\n",
       "365628      3     NaN  I like the product and tried it before I pucha...\n",
       "525663      3     NaN  This is a cool system only problem is that the..."
      ]
     },
     "metadata": {},
     "output_type": "display_data"
    },
    {
     "name": "stdout",
     "output_type": "stream",
     "text": [
      "\n",
      "Remove Missing Values Food Reviews\n",
      "Total Rows:\t 378019\n",
      "Total Columns:\t 3\n"
     ]
    },
    {
     "data": {
      "image/png": "[encoded data removed]",
      "text/plain": [
       "<Figure size 576x432 with 1 Axes>"
      ]
     },
     "metadata": {
      "needs_background": "light"
     },
     "output_type": "display_data"
    }
   ],
   "source": [
    "## Import Files\n",
    "food_reviews_df = pd.read_csv(\"food_reviews.csv\")\n",
    "\n",
    "## Data Set Evaluation\n",
    "duplicated_rows = food_reviews_df.duplicated(subset = [\"Score\", \"Summary\", \"Text\"]) # Duplicate = rows have same column values\n",
    "print(\"Unprocessed Food Reviews\")\n",
    "original_nrows = food_reviews_df.shape[0] # Number of rows\n",
    "original_ncols = food_reviews_df.shape[1] # Number of columns\n",
    "print(\"Total Rows:\\t\", original_nrows)\n",
    "print(\"Total Columns:\\t\", original_ncols)\n",
    "\n",
    "## Check Data Duplication and Removal\n",
    "print(\"Duplicated Rows: %4d (%2.2f%s)\" % \n",
    "      (duplicated_rows.sum(), round(duplicated_rows.sum() / original_nrows * 100,2), \"%\"))\n",
    "no_duplicates_df = food_reviews_df.drop_duplicates(subset = [\"Score\", \"Summary\", \"Text\"], \n",
    "                                                   keep = \"first\", inplace = False)\n",
    "print(\"\\nRemove Duplicated Food Reviews\")\n",
    "print(\"Total Rows:\\t\", no_duplicates_df.shape[0])\n",
    "print(\"Total Columns:\\t\", no_duplicates_df.shape[1])\n",
    "\n",
    "## Missing Value Check and Removal\n",
    "print(\"\\nMissing Values in Each Column Check\")\n",
    "print(no_duplicates_df.isnull().sum()) # Check for missing values in each column\n",
    "missing_rows = no_duplicates_df[no_duplicates_df.isnull().any(axis=1)] # Filter only rows with missing values\n",
    "display(missing_rows) # Visualize missing rows\n",
    "pre_processed_reviews_df = no_duplicates_df.dropna()\n",
    "print(\"\\nRemove Missing Values Food Reviews\")\n",
    "print(\"Total Rows:\\t\", pre_processed_reviews_df.shape[0])\n",
    "print(\"Total Columns:\\t\", pre_processed_reviews_df.shape[1])\n",
    "\n",
    "## Visualize Score Distribution\n",
    "rated_score_count = pre_processed_reviews_df['Score'].value_counts() # Count all the values\n",
    "\n",
    "plt.figure(figsize=(8, 6)) # Create a figure\n",
    "bar_plot = plt.bar(rated_score_count.index, rated_score_count.values, color=\"cornflowerblue\")\n",
    "for a_bar in bar_plot: # add in the count for each score\n",
    "    bar_height = a_bar.get_height()\n",
    "    plt.text(a_bar.get_x() + a_bar.get_width() / 2, \n",
    "             bar_height, bar_height, ha=\"center\", va=\"bottom\") # Add in the count into the plot\n",
    "\n",
    "plt.title(\"Bar Chart of User Rated Scores\")\n",
    "plt.xlabel(\"Scores\")\n",
    "plt.ylabel(\"Frequency\")\n",
    "plt.grid(axis = \"y\", linestyle = \"--\", alpha=1) # line guide\n",
    "plt.show(); "
   ]
  },
  {
   "cell_type": "code",
   "execution_count": 4,
   "metadata": {},
   "outputs": [
    {
     "name": "stdout",
     "output_type": "stream",
     "text": [
      "Original Data Size: 240802 \tSubset of Data: 36120 \tPercentage 15.0 %\n",
      "Original Data Size: 28578 \tSubset of Data: 4286 \tPercentage 15.0 %\n",
      "Original Data Size: 34923 \tSubset of Data: 5238 \tPercentage 15.0 %\n",
      "Original Data Size: 53798 \tSubset of Data: 8069 \tPercentage 15.0 %\n",
      "Original Data Size: 19918 \tSubset of Data: 2987 \tPercentage 15.0 %\n"
     ]
    }
   ],
   "source": [
    "## Select a percentage of the data while maintaining the class imbalance\n",
    "pct_data = 0.15\n",
    "grouped_df = pre_processed_reviews_df.groupby(\"Score\", group_keys=False) # Group by Score\n",
    "subset_data_df = pd.DataFrame()\n",
    "for score in pre_processed_reviews_df[\"Score\"].unique():\n",
    "    grouped_score = pre_processed_reviews_df[pre_processed_reviews_df[\"Score\"] == score]\n",
    "    score_class_n = len(grouped_score) # number of data for that score class\n",
    "    number_of_samples = int(score_class_n * pct_data) # Convert to int\n",
    "    sampled_group = grouped_score.sample(n = number_of_samples, # Get that percentage from the data\n",
    "                                         random_state = SEED)\n",
    "    print(\"Original Data Size:\", score_class_n, \"\\tSubset of Data:\", number_of_samples, \"\\tPercentage\", str(round((number_of_samples/score_class_n*100), 2))+\" %\")\n",
    "    subset_data_df = pd.concat([subset_data_df, sampled_group], ignore_index = True)\n",
    "\n",
    "## We need to reshuffle the data to simulate original dataset which is not sorted\n",
    "shuffled_subset_df = subset_data_df.sample(frac = 1, random_state = SEED).reset_index(drop = True) # Reshuffle the data"
   ]
  },
  {
   "cell_type": "code",
   "execution_count": 5,
   "metadata": {},
   "outputs": [
    {
     "data": {
      "image/png": "[encoded data removed]",
      "text/plain": [
       "<Figure size 576x432 with 1 Axes>"
      ]
     },
     "metadata": {
      "needs_background": "light"
     },
     "output_type": "display_data"
    }
   ],
   "source": [
    "## Visualize the Subset Distribution\n",
    "subset_count = shuffled_subset_df[\"Score\"].value_counts() # Count all the values\n",
    "\n",
    "plt.figure(figsize=(8, 6)) # Create a figure\n",
    "bar_plot = plt.bar(subset_count.index, subset_count.values, color=\"cornflowerblue\")\n",
    "for a_bar in bar_plot: # add in the count for each score\n",
    "    bar_height = a_bar.get_height()\n",
    "    plt.text(a_bar.get_x() + a_bar.get_width() / 2, \n",
    "             bar_height, bar_height, ha = \"center\", va = \"bottom\") # Add in the count into the plot\n",
    "\n",
    "plt.title(\"Bar Chart of Subset of Data\")\n",
    "plt.xlabel(\"Scores\")\n",
    "plt.ylabel(\"Frequency\")\n",
    "plt.grid(axis = \"y\", linestyle = \"--\", alpha = 1) # line guide\n",
    "plt.show();"
   ]
  },
  {
   "cell_type": "code",
   "execution_count": 6,
   "metadata": {},
   "outputs": [
    {
     "data": {
      "text/html": [
       "<div>\n",
       "<style scoped>\n",
       "    .dataframe tbody tr th:only-of-type {\n",
       "        vertical-align: middle;\n",
       "    }\n",
       "\n",
       "    .dataframe tbody tr th {\n",
       "        vertical-align: top;\n",
       "    }\n",
       "\n",
       "    .dataframe thead th {\n",
       "        text-align: right;\n",
       "    }\n",
       "</style>\n",
       "<table border=\"1\" class=\"dataframe\">\n",
       "  <thead>\n",
       "    <tr style=\"text-align: right;\">\n",
       "      <th></th>\n",
       "      <th>Score</th>\n",
       "      <th>Summary</th>\n",
       "      <th>Text</th>\n",
       "      <th>combined_review</th>\n",
       "    </tr>\n",
       "  </thead>\n",
       "  <tbody>\n",
       "    <tr>\n",
       "      <th>0</th>\n",
       "      <td>2</td>\n",
       "      <td>Not up to my expectation</td>\n",
       "      <td>You get what you pay for...  I was excited to ...</td>\n",
       "      <td>Not up to my expectation. You get what you pay...</td>\n",
       "    </tr>\n",
       "    <tr>\n",
       "      <th>1</th>\n",
       "      <td>5</td>\n",
       "      <td>Truly Premium Coffee</td>\n",
       "      <td>Being from Puerto Rico I took for granted the ...</td>\n",
       "      <td>Truly Premium Coffee. Being from Puerto Rico I...</td>\n",
       "    </tr>\n",
       "    <tr>\n",
       "      <th>2</th>\n",
       "      <td>5</td>\n",
       "      <td>A great time saver for the baker</td>\n",
       "      <td>I was using this many years ago and couldn't f...</td>\n",
       "      <td>A great time saver for the baker. I was using ...</td>\n",
       "    </tr>\n",
       "    <tr>\n",
       "      <th>3</th>\n",
       "      <td>5</td>\n",
       "      <td>loooove it</td>\n",
       "      <td>My whole family loooves this cereal, either al...</td>\n",
       "      <td>loooove it. My whole family loooves this cerea...</td>\n",
       "    </tr>\n",
       "    <tr>\n",
       "      <th>4</th>\n",
       "      <td>3</td>\n",
       "      <td>Romulan Ale Energy Drink</td>\n",
       "      <td>None of these questions really pertain; this w...</td>\n",
       "      <td>Romulan Ale Energy Drink. None of these questi...</td>\n",
       "    </tr>\n",
       "  </tbody>\n",
       "</table>\n",
       "</div>"
      ],
      "text/plain": [
       "   Score                           Summary  \\\n",
       "0      2          Not up to my expectation   \n",
       "1      5              Truly Premium Coffee   \n",
       "2      5  A great time saver for the baker   \n",
       "3      5                        loooove it   \n",
       "4      3          Romulan Ale Energy Drink   \n",
       "\n",
       "                                                Text  \\\n",
       "0  You get what you pay for...  I was excited to ...   \n",
       "1  Being from Puerto Rico I took for granted the ...   \n",
       "2  I was using this many years ago and couldn't f...   \n",
       "3  My whole family loooves this cereal, either al...   \n",
       "4  None of these questions really pertain; this w...   \n",
       "\n",
       "                                     combined_review  \n",
       "0  Not up to my expectation. You get what you pay...  \n",
       "1  Truly Premium Coffee. Being from Puerto Rico I...  \n",
       "2  A great time saver for the baker. I was using ...  \n",
       "3  loooove it. My whole family loooves this cerea...  \n",
       "4  Romulan Ale Energy Drink. None of these questi...  "
      ]
     },
     "metadata": {},
     "output_type": "display_data"
    }
   ],
   "source": [
    "## Combine Summary and Text Data Into \"Combined Review\"\n",
    "def combine_summary_text(summary, text):\n",
    "    \"\"\"\n",
    "    This function joins summary and text together. \n",
    "    The summary is treated as a sentence by adding a dot \".\" in the back if it does not already exist.\n",
    "    \"\"\"\n",
    "    combined_text = \"\" # string variable\n",
    "    if summary.endswith(\".\"):\n",
    "        combined_text = summary.strip() + \" \" + text.strip()\n",
    "    else:\n",
    "        combined_text = summary.strip() + \". \" + text.strip()\n",
    "    return combined_text\n",
    "\n",
    "## Create Combined Review DataFrame\n",
    "nrows = shuffled_subset_df.shape[0]\n",
    "for row_n in range(nrows):\n",
    "    review_summary = shuffled_subset_df.iloc[row_n,1]\n",
    "    review_text = shuffled_subset_df.iloc[row_n,2]\n",
    "    combined_text = combine_summary_text(review_summary, review_text) # Combined the summary and text\n",
    "    shuffled_subset_df.at[row_n, \"combined_review\"] = combined_text\n",
    "display(shuffled_subset_df.head(5))"
   ]
  },
  {
   "cell_type": "code",
   "execution_count": 7,
   "metadata": {},
   "outputs": [
    {
     "name": "stdout",
     "output_type": "stream",
     "text": [
      "Training and Testing Split\n",
      "Total samples:\t\t56700\n",
      "Training samples:\t39690 (70.00%)\n",
      "Test samples:\t\t17010 (30.00%)\n"
     ]
    }
   ],
   "source": [
    "## Import libraries\n",
    "from sklearn.model_selection import train_test_split\n",
    "\n",
    "## Startified Split\n",
    "label_scores = shuffled_subset_df[\"Score\"] # y\n",
    "review_text = shuffled_subset_df[\"combined_review\"] # X\n",
    "\n",
    "\n",
    "## Divide into Training and Testing\n",
    "X_train_unprocessed, X_test_unprocessed, Y_train, Y_test = train_test_split(review_text,\n",
    "                                                    label_scores,\n",
    "                                                    test_size = 0.3,\n",
    "                                                    random_state = SEED, \n",
    "                                                    stratify = label_scores)\n",
    "\n",
    "## Evaluate the Train and Test Split\n",
    "n_training_samples = len(X_train_unprocessed)\n",
    "n_testing_samples = len(X_test_unprocessed)\n",
    "n_total_samples = n_training_samples + n_testing_samples\n",
    "\n",
    "## Print it out\n",
    "print(\"Training and Testing Split\")\n",
    "print(\"Total samples:\\t\\t%4d\" % n_total_samples)\n",
    "print(\"Training samples:\\t%4d (%2.2f%s)\" % (n_training_samples,(n_training_samples/n_total_samples )*100,\"%\"))\n",
    "print(\"Test samples:\\t\\t%4d (%2.2f%s)\" % (n_testing_samples ,(n_testing_samples /n_total_samples )*100,\"%\"))"
   ]
  },
  {
   "cell_type": "code",
   "execution_count": 8,
   "metadata": {},
   "outputs": [
    {
     "data": {
      "image/png": "[encoded data removed]",
      "text/plain": [
       "<Figure size 576x432 with 1 Axes>"
      ]
     },
     "metadata": {
      "needs_background": "light"
     },
     "output_type": "display_data"
    }
   ],
   "source": [
    "## Downsampling to deal with class imbalance\n",
    "train_df = pd.concat([X_train_unprocessed, Y_train], axis=1) # Combine\n",
    "\n",
    "grouped_df = train_df.groupby(\"Score\", group_keys = False) # Group by Score\n",
    "balanced_df = pd.DataFrame()  # Place holder for new dataframe\n",
    "minimum_class_count = train_df[\"Score\"].value_counts().min() # Resample to reach the lowest class number\n",
    "\n",
    "## Group by Score to Downsampling to reach minimun class number\n",
    "for score in train_df[\"Score\"].unique(): # loop through unique score values\n",
    "    grouped_score = train_df[train_df[\"Score\"] == score]\n",
    "    sampled_group = grouped_score.sample(n = minimum_class_count, random_state = SEED) # For reporducibility\n",
    "    balanced_df = pd.concat([balanced_df, sampled_group], ignore_index=True) # Concat it into the new dataframe\n",
    "\n",
    "## We need to reshuffle the data to simulate original dataset which is not sorted\n",
    "shuffled_balanced_df = balanced_df.sample(frac = 1, random_state = SEED).reset_index(drop = True) # Reshuffle the data\n",
    "\n",
    "## Visualized Balanced Class Data\n",
    "balance_rate_count = shuffled_balanced_df[\"Score\"].value_counts() # Count all the values\n",
    "\n",
    "plt.figure(figsize=(8, 6)) # Create a figure\n",
    "bar_plot = plt.bar(balance_rate_count.index, balance_rate_count.values, color=\"cornflowerblue\")\n",
    "for a_bar in bar_plot: # add in the count for each score\n",
    "    bar_height = a_bar.get_height()\n",
    "    plt.text(a_bar.get_x() + a_bar.get_width() / 2, \n",
    "             bar_height, bar_height, ha = \"center\", va = \"bottom\") # Add in the count into the plot\n",
    "\n",
    "plt.title(\"Bar Chart of Downsampled Training Dataset\")\n",
    "plt.xlabel(\"Scores\")\n",
    "plt.ylabel(\"Frequency\")\n",
    "plt.grid(axis = \"y\", linestyle = \"--\", alpha = 1) # line guide\n",
    "plt.show();"
   ]
  },
  {
   "cell_type": "code",
   "execution_count": 9,
   "metadata": {},
   "outputs": [],
   "source": [
    "## Data Cleaning Functions\n",
    "def remove_emails(text):\n",
    "    email_regex = r\"[a-zA-Z0-9._+-]+@[a-zA-Z0-9.-]+\\.[a-zA-Z]{2,}\"\n",
    "    clean_text = re.sub(email_regex, \" \", text) # remove emails\n",
    "    return clean_text\n",
    "    \n",
    "def remove_html_tags(text):\n",
    "    clean_text = re.sub(\"<.*?>\", \" \", text)  # remove tags such as <a></a>\n",
    "    return clean_text\n",
    "\n",
    "def remove_urls(text):\n",
    "    web_url = r\"(https?:\\/\\/|www\\.){0,1}[a-zA-Z0-9]{2,}\\.[a-zA-Z0-9]{2,}\\S*\"\n",
    "    clean_text = re.sub(web_url, \" \", text) # remove website starts with www. | http: | https:\n",
    "    return clean_text\n",
    "\n",
    "def expand_contract_word(text):\n",
    "    \"\"\"\n",
    "    This function expands common word contraction for English language.\n",
    "    It will make the sentence into lower case to ensure consistency.\n",
    "    For instance, \"It's\" -> \"it is\".\n",
    "    \"\"\"\n",
    "    clean_text = text# Ensure consistency\n",
    "    \n",
    "    ## Specific Contractions\n",
    "    ## With change in word form OR slight word modification\n",
    "    clean_text = re.sub(\"won\\'t\", \"will not\", clean_text) # I won't -> i will not\n",
    "    clean_text = re.sub(\"can\\'t\", \"can not\", clean_text) # I can't -> i can not\n",
    "    clean_text = re.sub(\"shan\\'t\", \"shall not\", clean_text) # I shan't -> i shall not\n",
    "    clean_text = re.sub(\"'cause\", \" because\", clean_text) # 'cause -> because\n",
    "    \n",
    "    ## Without change in word form: couldn't, aren't,...\n",
    "    clean_text = re.sub(\"n\\'t\", \" not\", clean_text)\n",
    "    \n",
    "    ## Present Tense Contraction \n",
    "    clean_text = re.sub(\"\\'s\", \" is\", clean_text) # It's -> it is [Generalize possible to be \"has\"]\n",
    "    clean_text = re.sub(\"\\'m\", \" am\", clean_text) # I'm -> i am\n",
    "    clean_text = re.sub(\"\\'re\", \" are\", clean_text) # They're -> they are\n",
    "    \n",
    "    ## Past Tense Contractraction\n",
    "    clean_text = re.sub(\"\\'ve\", \" have\", clean_text) # I've -> i have\n",
    "    \n",
    "    ## Future Tense Contraction\n",
    "    clean_text = re.sub(\"\\'ll\", \" will\", clean_text) # I'll -> i will\n",
    "    clean_text = re.sub(\"\\'d\", \" would\", clean_text) # I'd -> i would\n",
    "    \n",
    "    ## Return the decontracted phrase\n",
    "    return clean_text\n",
    "\n",
    "def star_replacer(match):\n",
    "    \"\"\"\n",
    "    Function to use alongside star rating to text.\n",
    "    \"\"\"\n",
    "    score_range = {1: \"one\", 2: \"two\", 3: \"three\", 4: \"four\", 5: \"five\", \n",
    "                   10: \"ten\"}\n",
    "    num = int(match.group(1))  # Extract the captured number from the match\n",
    "    if num in score_range:\n",
    "        if num == 1: # If its a 1 star case\n",
    "            return score_range[num] + \" star\" # Singular\n",
    "        else:\n",
    "            return score_range[num] + \" stars\"  # Plural Stars\n",
    "    else:\n",
    "        return str(num) + \" stars\"  # Other cases\n",
    "\n",
    "def star_rating_to_text(text):\n",
    "    \"\"\"\n",
    "    Capture user rating range is 1 to 5, common wording is 1 star, 2 stars or 5 stars.\n",
    "    10 stars is used for 5 stars product.\n",
    "    \"\"\"\n",
    "    rating_regex = r\"(1?[0-9])\\s?[Ss]tars?\" #Number follow by stars or star\n",
    "    transformed_text = re.sub(rating_regex, star_replacer, text)\n",
    "    return transformed_text\n",
    "\n",
    "def text_cleaner(text):\n",
    "    \"\"\"\n",
    "    This function combines all the text cleaning functions.\n",
    "    \"\"\"\n",
    "    clean_text = remove_emails(text)\n",
    "    clean_text = remove_html_tags(clean_text)\n",
    "    clean_text = remove_urls(clean_text)\n",
    "    clean_text = star_rating_to_text(clean_text)\n",
    "    clean_text = expand_contract_word(clean_text)\n",
    "    return clean_text\n",
    "\n",
    "## Word Lemmatizer\n",
    "def penn_to_wordnet(penn_pos_tag):\n",
    "    tag_dictionary = {'NN':'n', 'JJ':'a','VB':'v', 'RB':'r'}\n",
    "    try:\n",
    "        return tag_dictionary[penn_pos_tag[:2]]\n",
    "    except:\n",
    "        return 'n' # No mapping -> return default\n",
    "    \n",
    "def text_processing(review_text):\n",
    "    \"\"\"\n",
    "    This function combines text cleaning process (removal of html tags and urls, expand contracted words)\n",
    "    with lemmatization by word tagging and returing a formatted text.\n",
    "    \"\"\"\n",
    "    ## Loading Functions and Resources from libraries\n",
    "    wnl = WordNetLemmatizer() # we need to lemmatize with part of speech type as adjective describes noun = the product\n",
    "    punc_list = list(punctuation) # load punctuation list\n",
    "    stopwords_english = set(stopwords.words('english')) # load english stopwords\n",
    "    negative_stopwords = set(['no', 'nor', 'not', 'off']) # Stopwords to keep\n",
    "    updated_stopwords = stopwords_english - negative_stopwords # Stopwords to consider, set is used for ease of removal\n",
    "    \n",
    "    clean_text = text_cleaner(review_text) # clean the text\n",
    "    processed_review_text = list() # holder for a review\n",
    "    for sent in sent_tokenize(clean_text): # Tokenize as a sentence\n",
    "        tag_sentence = pos_tag(word_tokenize(sent)) # Give the sentences tagging\n",
    "        for word, tag in tag_sentence:\n",
    "            word = word.replace(\"-\", \"\") # round-trip -> roundtrip\n",
    "            word = word.replace(\".\", \"\") # U.S. -> US\n",
    "            word = word.lower() # Change to lowercase\n",
    "            word_matcher = re.match(\"[a-z]+\", word) # a word should only be a list of characters\n",
    "            if (word_matcher != None):\n",
    "                if(word_matcher.group() == word): # If the detected word is the same with regex\n",
    "                    ## A word should be two characters or more (e.g. no) and punctuation and not in the list of stop words \n",
    "                    if (len(word)>=2) and (word not in punc_list) and (word not in updated_stopwords):\n",
    "                        processed_review_text.append(wnl.lemmatize(word, pos=penn_to_wordnet(tag)))\n",
    "\n",
    "    cleaned_formatted_text = \" \".join(processed_review_text) # join the text back\n",
    "    \n",
    "    return cleaned_formatted_text.strip()"
   ]
  },
  {
   "cell_type": "code",
   "execution_count": 10,
   "metadata": {},
   "outputs": [
    {
     "data": {
      "text/html": [
       "<div>\n",
       "<style scoped>\n",
       "    .dataframe tbody tr th:only-of-type {\n",
       "        vertical-align: middle;\n",
       "    }\n",
       "\n",
       "    .dataframe tbody tr th {\n",
       "        vertical-align: top;\n",
       "    }\n",
       "\n",
       "    .dataframe thead th {\n",
       "        text-align: right;\n",
       "    }\n",
       "</style>\n",
       "<table border=\"1\" class=\"dataframe\">\n",
       "  <thead>\n",
       "    <tr style=\"text-align: right;\">\n",
       "      <th></th>\n",
       "      <th>combined_review</th>\n",
       "      <th>Score</th>\n",
       "    </tr>\n",
       "  </thead>\n",
       "  <tbody>\n",
       "    <tr>\n",
       "      <th>0</th>\n",
       "      <td>Defective cups. Like the flavor, but at least ...</td>\n",
       "      <td>2</td>\n",
       "    </tr>\n",
       "    <tr>\n",
       "      <th>1</th>\n",
       "      <td>really expencive jar of pure unopposed human e...</td>\n",
       "      <td>2</td>\n",
       "    </tr>\n",
       "    <tr>\n",
       "      <th>2</th>\n",
       "      <td>Wonderful spices. I love the taste of this ras...</td>\n",
       "      <td>5</td>\n",
       "    </tr>\n",
       "    <tr>\n",
       "      <th>3</th>\n",
       "      <td>Best way to buy kcups. Once you've tried some ...</td>\n",
       "      <td>5</td>\n",
       "    </tr>\n",
       "    <tr>\n",
       "      <th>4</th>\n",
       "      <td>Amazing !!. I absolutely love this chai mix. I...</td>\n",
       "      <td>5</td>\n",
       "    </tr>\n",
       "  </tbody>\n",
       "</table>\n",
       "</div>"
      ],
      "text/plain": [
       "                                     combined_review  Score\n",
       "0  Defective cups. Like the flavor, but at least ...      2\n",
       "1  really expencive jar of pure unopposed human e...      2\n",
       "2  Wonderful spices. I love the taste of this ras...      5\n",
       "3  Best way to buy kcups. Once you've tried some ...      5\n",
       "4  Amazing !!. I absolutely love this chai mix. I...      5"
      ]
     },
     "metadata": {},
     "output_type": "display_data"
    },
    {
     "name": "stdout",
     "output_type": "stream",
     "text": [
      "Balanced Training Data: 10455 reviews.\n"
     ]
    },
    {
     "data": {
      "text/html": [
       "<div>\n",
       "<style scoped>\n",
       "    .dataframe tbody tr th:only-of-type {\n",
       "        vertical-align: middle;\n",
       "    }\n",
       "\n",
       "    .dataframe tbody tr th {\n",
       "        vertical-align: top;\n",
       "    }\n",
       "\n",
       "    .dataframe thead th {\n",
       "        text-align: right;\n",
       "    }\n",
       "</style>\n",
       "<table border=\"1\" class=\"dataframe\">\n",
       "  <thead>\n",
       "    <tr style=\"text-align: right;\">\n",
       "      <th></th>\n",
       "      <th>combined_review</th>\n",
       "      <th>Score</th>\n",
       "      <th>processed_review</th>\n",
       "    </tr>\n",
       "  </thead>\n",
       "  <tbody>\n",
       "    <tr>\n",
       "      <th>0</th>\n",
       "      <td>Defective cups. Like the flavor, but at least ...</td>\n",
       "      <td>2</td>\n",
       "      <td>defective cup like flavor least third cup come...</td>\n",
       "    </tr>\n",
       "    <tr>\n",
       "      <th>1</th>\n",
       "      <td>really expencive jar of pure unopposed human e...</td>\n",
       "      <td>2</td>\n",
       "      <td>really expencive jar pure unopposed human excr...</td>\n",
       "    </tr>\n",
       "    <tr>\n",
       "      <th>2</th>\n",
       "      <td>Wonderful spices. I love the taste of this ras...</td>\n",
       "      <td>5</td>\n",
       "      <td>wonderful spice love taste ras el hanout rice ...</td>\n",
       "    </tr>\n",
       "    <tr>\n",
       "      <th>3</th>\n",
       "      <td>Best way to buy kcups. Once you've tried some ...</td>\n",
       "      <td>5</td>\n",
       "      <td>best way buy kcups try random sampler pack ove...</td>\n",
       "    </tr>\n",
       "    <tr>\n",
       "      <th>4</th>\n",
       "      <td>Amazing !!. I absolutely love this chai mix. I...</td>\n",
       "      <td>5</td>\n",
       "      <td>amazing absolutely love chai mix try mix favor...</td>\n",
       "    </tr>\n",
       "  </tbody>\n",
       "</table>\n",
       "</div>"
      ],
      "text/plain": [
       "                                     combined_review  Score  \\\n",
       "0  Defective cups. Like the flavor, but at least ...      2   \n",
       "1  really expencive jar of pure unopposed human e...      2   \n",
       "2  Wonderful spices. I love the taste of this ras...      5   \n",
       "3  Best way to buy kcups. Once you've tried some ...      5   \n",
       "4  Amazing !!. I absolutely love this chai mix. I...      5   \n",
       "\n",
       "                                    processed_review  \n",
       "0  defective cup like flavor least third cup come...  \n",
       "1  really expencive jar pure unopposed human excr...  \n",
       "2  wonderful spice love taste ras el hanout rice ...  \n",
       "3  best way buy kcups try random sampler pack ove...  \n",
       "4  amazing absolutely love chai mix try mix favor...  "
      ]
     },
     "metadata": {},
     "output_type": "display_data"
    }
   ],
   "source": [
    "## Display the Downsampled File\n",
    "display(shuffled_balanced_df.head(5))\n",
    "print(\"Balanced Training Data:\", len(shuffled_balanced_df), \"reviews.\") # Display the size\n",
    "\n",
    "## Apply Cleaning After Seprating to reduce runtime\n",
    "## We apply it after as the dataset is smaller\n",
    "shuffled_balanced_df[\"processed_review\"] = shuffled_balanced_df[\"combined_review\"].apply(text_processing)\n",
    "\n",
    "## Apply to the Testing Set\n",
    "X_test = X_test_unprocessed.apply(text_processing)\n",
    "\n",
    "## Display the DataFrame\n",
    "display(shuffled_balanced_df.head(5))\n",
    "\n",
    "## Separate Again to Data Series\n",
    "X_train = shuffled_balanced_df[\"processed_review\"]\n",
    "Y_train = shuffled_balanced_df[\"Score\"]"
   ]
  },
  {
   "cell_type": "code",
   "execution_count": 11,
   "metadata": {},
   "outputs": [
    {
     "name": "stdout",
     "output_type": "stream",
     "text": [
      "--------------------------------------------------\n",
      "Train Sample Score: 2\n",
      "--------------------------------------------------\n",
      "Train Sample Before Cleaning:\n",
      "Defective cups. Like the flavor, but at least a third of the cups have come unsealed during brewing, spewing coffee all over my counter and leaving an undrinkable ground filled mess in my coffee cup.\n",
      "\n",
      "Train Sample After Cleaning:\n",
      "defective cup like flavor least third cup come unsealed brewing spew coffee counter leave undrinkable ground fill mess coffee cup\n",
      "\n",
      "--------------------------------------------------\n",
      "Test Sample Score: 4\n",
      "--------------------------------------------------\n",
      "Test Sample Before Cleaning:\n",
      "Good variety. I liked these samplers. I got a very good variety of flavors and only a handful of doubled flavors. Packaging was good, no broken cups. I would buy this again.\n",
      "\n",
      "Test Sample After Cleaning:\n",
      "good variety like sampler get good variety flavor handful doubled flavor packaging good no broken cup would buy\n"
     ]
    }
   ],
   "source": [
    "## View the Cleaning Process\n",
    "sample_number = 0\n",
    "\n",
    "## Train Group\n",
    "print(\"-\" * 50)\n",
    "print(\"Train Sample Score:\", Y_train.iloc[sample_number])\n",
    "print(\"-\" * 50)\n",
    "print(\"Train Sample Before Cleaning:\\n\" + shuffled_balanced_df[\"combined_review\"][sample_number]+\"\\n\")\n",
    "print(\"Train Sample After Cleaning:\\n\" + shuffled_balanced_df[\"processed_review\"][sample_number]+\"\\n\")\n",
    "\n",
    "## Test Group\n",
    "print(\"-\" * 50)\n",
    "print(\"Test Sample Score:\", Y_test.iloc[sample_number])\n",
    "print(\"-\" * 50)\n",
    "print(\"Test Sample Before Cleaning:\\n\" + X_test_unprocessed.iloc[sample_number]+\"\\n\")\n",
    "print(\"Test Sample After Cleaning:\\n\" + X_test.iloc[sample_number])"
   ]
  },
  {
   "cell_type": "code",
   "execution_count": 12,
   "metadata": {},
   "outputs": [],
   "source": [
    "## Encode Label Data for Neural Networks\n",
    "from sklearn.preprocessing import LabelEncoder\n",
    "\n",
    "label_encoder = LabelEncoder()\n",
    "Y_train_encoded = label_encoder.fit_transform(Y_train)\n",
    "Y_test_encoded = label_encoder.transform(Y_test)"
   ]
  },
  {
   "cell_type": "markdown",
   "metadata": {
    "deletable": false,
    "editable": false,
    "nbgrader": {
     "cell_type": "markdown",
     "checksum": "cee84be8ff5d30b3cc777f43b92b5b69",
     "grade": false,
     "grade_id": "cell-b691a7bc111d2ca5",
     "locked": true,
     "schema_version": 3,
     "solution": false,
     "task": false
    }
   },
   "source": [
    "## Implementation - Task 2\n",
    "Implement a Naïve Bayes model for predicting the rating of a food review. Train your model on the training set and test it on the test set. Use an appropriate text representation. (**5%**)"
   ]
  },
  {
   "cell_type": "code",
   "execution_count": 13,
   "metadata": {
    "deletable": false,
    "nbgrader": {
     "cell_type": "code",
     "checksum": "638739c81d3d084fbcc8233bbecb6b02",
     "grade": true,
     "grade_id": "cell-c7228a828210126a",
     "locked": false,
     "points": 5,
     "schema_version": 3,
     "solution": true,
     "task": false
    }
   },
   "outputs": [
    {
     "name": "stdout",
     "output_type": "stream",
     "text": [
      "Naive Bayes Model\n",
      "Predicted: [4, 2, 4, 4, 5, 5, 3, 1, 4, 5]\n",
      "Ground truth: [4, 1, 5, 4, 1, 5, 3, 4, 5, 5]\n"
     ]
    }
   ],
   "source": [
    "## Import Libraries\n",
    "from sklearn.feature_extraction.text import TfidfVectorizer\n",
    "from sklearn.naive_bayes import MultinomialNB\n",
    "from sklearn.pipeline import make_pipeline\n",
    "\n",
    "## Task: 2.0 Implementation of Naive Bayes Model\n",
    "## Goal: predict food review rating\n",
    "\n",
    "nb_model = make_pipeline(TfidfVectorizer(), MultinomialNB())\n",
    "\n",
    "nb_model.fit(X_train, Y_train) # Create a Naive Bayes Model\n",
    "nb_pred_scores = nb_model.predict(X_test) # Predict\n",
    "\n",
    "## Viewing the model Prediction\n",
    "print(\"Naive Bayes Model\")\n",
    "print(\"Predicted:\", nb_pred_scores.tolist()[0:10])\n",
    "print(\"Ground truth:\", Y_test.tolist()[0:10])"
   ]
  },
  {
   "cell_type": "code",
   "execution_count": 14,
   "metadata": {},
   "outputs": [],
   "source": [
    "## Save File: Task 7\n",
    "import pickle\n",
    "\n",
    "nb_model_file_name = \"naive_bayes_model.pkl\"\n",
    "with open(nb_model_file_name, \"wb\") as file:\n",
    "    pickle.dump(nb_model, file)"
   ]
  },
  {
   "cell_type": "markdown",
   "metadata": {
    "deletable": false,
    "editable": false,
    "nbgrader": {
     "cell_type": "markdown",
     "checksum": "3a8672a0a32389c7076c73d1de3acfb1",
     "grade": false,
     "grade_id": "cell-bd3fe708de79e951",
     "locked": true,
     "schema_version": 3,
     "solution": false,
     "task": false
    }
   },
   "source": [
    "## Implementation - Task 3\n",
    "Implement a k-Nearest Neighbours model for predicting the rating of a food review. Train your model on the training set and test it on the test set. Use an appropriate text representation. You must select the best k by examining the performance of the model for $k \\in \\{1,3,5,7\\}$, using an appropriate cross-validation approach. Create a plot for k vs. classification performance to justify your choice. (**10%**)"
   ]
  },
  {
   "cell_type": "code",
   "execution_count": 15,
   "metadata": {
    "deletable": false,
    "nbgrader": {
     "cell_type": "code",
     "checksum": "b7c5809dc4f4de2b111845abdcf40ddf",
     "grade": true,
     "grade_id": "cell-e566d393c7fac970",
     "locked": false,
     "points": 10,
     "schema_version": 3,
     "solution": true,
     "task": false
    }
   },
   "outputs": [
    {
     "name": "stdout",
     "output_type": "stream",
     "text": [
      "K-Neighbours: 1 CV Accuracy: 0.2846\n",
      "K-Neighbours: 3 CV Accuracy: 0.2827\n",
      "K-Neighbours: 5 CV Accuracy: 0.3018\n",
      "K-Neighbours: 7 CV Accuracy: 0.3074\n"
     ]
    },
    {
     "data": {
      "image/png": "[encoded data removed]",
      "text/plain": [
       "<Figure size 432x288 with 1 Axes>"
      ]
     },
     "metadata": {
      "needs_background": "light"
     },
     "output_type": "display_data"
    }
   ],
   "source": [
    "## Import libraries\n",
    "from sklearn.neighbors import KNeighborsClassifier\n",
    "from sklearn.model_selection import cross_val_score\n",
    "import matplotlib.pyplot as plt\n",
    "\n",
    "## Task: 3.0 Implementation of k-Nearest Neighbours Model\n",
    "## Goal: predict food review rating\n",
    "\n",
    "## 3.1 Evaluate: k = (1,3,5,7) and select the best k\n",
    "k_values = [1, 3, 5, 7]\n",
    "pred_cv_scores = list()\n",
    "\n",
    "for k in k_values:\n",
    "    np.random.seed(SEED) ## Set Seed for Each Loop\n",
    "    knn_model = make_pipeline(TfidfVectorizer(), KNeighborsClassifier(n_neighbors = k))\n",
    "    cv_score = cross_val_score(knn_model, X_train, Y_train, \n",
    "                               cv = 3, scoring = \"accuracy\")\n",
    "    mean_cv_score = cv_score.mean() # Mean of the 3 CV in each k-NN model\n",
    "    print(\"K-Neighbours: \" + str(k) + \" CV Accuracy: \" + str(round(mean_cv_score, 4)))\n",
    "    pred_cv_scores.append(mean_cv_score)\n",
    "    \n",
    "## 3.2 Plot k vs classification performance\n",
    "import matplotlib.pyplot as plt\n",
    "\n",
    "## Plot varying k-NN Number of Neighbours\n",
    "plt.plot(k_values, pred_cv_scores, label = \"Cross Validation Accuracy\")\n",
    "plt.legend() # Add legend\n",
    "plt.title(\"k-NN Number of Neighbours vs Cross Validation Accuracy\")\n",
    "plt.xlabel(\"Number of Neighbors\")\n",
    "plt.ylabel(\"Cross Validation Accuracy\")\n",
    "plt.show();"
   ]
  },
  {
   "cell_type": "code",
   "execution_count": 16,
   "metadata": {},
   "outputs": [
    {
     "name": "stdout",
     "output_type": "stream",
     "text": [
      "k-NN Model\n",
      "Predicted: [2, 2, 2, 3, 5, 4, 3, 1, 1, 3]\n",
      "Ground truth: [4, 1, 5, 4, 1, 5, 3, 4, 5, 5]\n"
     ]
    }
   ],
   "source": [
    "## 3.3 Build the best KNN model\n",
    "## Train and test with full data\n",
    "best_k = k_values[pred_cv_scores.index(max(pred_cv_scores))] # Get the best accuracy k value\n",
    "\n",
    "best_knn_model = make_pipeline(TfidfVectorizer(), KNeighborsClassifier(n_neighbors = best_k))\n",
    "best_knn_model.fit(X_train, Y_train)\n",
    "knn_pred_scores = best_knn_model.predict(X_test) # Predict\n",
    "print(\"k-NN Model\")\n",
    "print(\"Predicted:\", knn_pred_scores.tolist()[0:10])\n",
    "print(\"Ground truth:\", Y_test.tolist()[0:10])"
   ]
  },
  {
   "cell_type": "code",
   "execution_count": 17,
   "metadata": {},
   "outputs": [],
   "source": [
    "## Save File: Task 7\n",
    "import pickle\n",
    "\n",
    "knn_model_file_name = \"knn_model.pkl\"\n",
    "with open(knn_model_file_name, \"wb\") as file:\n",
    "    pickle.dump(best_knn_model, file)"
   ]
  },
  {
   "cell_type": "markdown",
   "metadata": {
    "deletable": false,
    "editable": false,
    "nbgrader": {
     "cell_type": "markdown",
     "checksum": "43ad334a0b661041421fbde0c35614c1",
     "grade": false,
     "grade_id": "cell-ceb568d7b9979383",
     "locked": true,
     "schema_version": 3,
     "solution": false,
     "task": false
    }
   },
   "source": [
    "## Implementation - Task 4\n",
    "Implement a Convolutional Neural Network (CNN) model for predicting the rating of a food review. The model must have at least two convolutional layers. Train your model on the training set and test it on the test set. Use an appropriate text representation. (**13%**)"
   ]
  },
  {
   "cell_type": "code",
   "execution_count": 18,
   "metadata": {
    "deletable": false,
    "nbgrader": {
     "cell_type": "code",
     "checksum": "bc79d3616790883ed0539f3416cb92ad",
     "grade": true,
     "grade_id": "cell-8062f67e02d4c61f",
     "locked": false,
     "points": 13,
     "schema_version": 3,
     "solution": true,
     "task": false
    }
   },
   "outputs": [
    {
     "name": "stdout",
     "output_type": "stream",
     "text": [
      "Vocabulary size: 5000 words.\n",
      "Converted 4858 words (142 misses)\n"
     ]
    }
   ],
   "source": [
    "## CNN Model will be using Pre-trained Embeddings\n",
    "import keras\n",
    "from tensorflow.keras.preprocessing.text import Tokenizer\n",
    "from tensorflow.keras.preprocessing.sequence import pad_sequences\n",
    "from tensorflow.keras.layers import TextVectorization\n",
    "import numpy as np\n",
    "import pickle\n",
    "\n",
    "## Define Hyper Parameters\n",
    "MAX_VOCABULARY_WORDS = 5000\n",
    "MAX_SEQUENCE_LENGTH = 100\n",
    "EMBEDDING_DIM = 50\n",
    "SCORE_CLASSES = 5 # Predictor Classes\n",
    "\n",
    "## Initializer Tokenizer \"Training Tokenizer\"\n",
    "tokenizer = Tokenizer(num_words = MAX_VOCABULARY_WORDS)\n",
    "tokenizer.fit_on_texts(X_train)\n",
    "word_indexes = tokenizer.word_index\n",
    "\n",
    "## As we are using the tokenizer which is fit on the training for future models\n",
    "tokenizer_file_name = \"tokenizer.pkl\"\n",
    "with open(tokenizer_file_name, \"wb\") as file:\n",
    "    pickle.dump(tokenizer, file)\n",
    "file.close()\n",
    "\n",
    "## Convert text into sequences\n",
    "X_train_sequences = tokenizer.texts_to_sequences(X_train)\n",
    "X_test_sequences = tokenizer.texts_to_sequences(X_test)\n",
    "\n",
    "## Add Padding to make uniform length\n",
    "X_train_padded = pad_sequences(X_train_sequences, \n",
    "                               maxlen = MAX_SEQUENCE_LENGTH, \n",
    "                               padding = \"post\")\n",
    "X_test_padded = pad_sequences(X_test_sequences, \n",
    "                              maxlen = MAX_SEQUENCE_LENGTH, \n",
    "                              padding = \"post\")\n",
    "\n",
    "## Vectorize Training Vocabulary\n",
    "## Text -> Vocabulary Vector\n",
    "vectorizer = TextVectorization(max_tokens = MAX_VOCABULARY_WORDS,\n",
    "                                   output_sequence_length = MAX_SEQUENCE_LENGTH)\n",
    "vectorizer.adapt(X_train)\n",
    "vocabulary = vectorizer.get_vocabulary()\n",
    "word_index = dict(zip(vocabulary, range(len(vocabulary)))) # Create Indexes of words\n",
    "print(\"Vocabulary size: \" + str(len(vocabulary)) + \" words.\")\n",
    "\n",
    "## Load Pre-trained Embeddings\n",
    "## File is in the submission directory\n",
    "embeddings_dict = {}\n",
    "with open(\"glove.6B.50d.txt\", \"r\") as file:\n",
    "    counter = 1\n",
    "    for line in file: # Each Line represent a vector of embeddings\n",
    "        values = line.split() # Turn into a list\n",
    "        word = values[0] # Get word\n",
    "        vector = np.asarray(values[1:], \"float32\") # 1: end = embeddings\n",
    "        embeddings_dict[word] = vector # Add into the dict\n",
    "\n",
    "file.close() # Close the file\n",
    "\n",
    "## Create Embedding Dict\n",
    "hits = 0 # Word Exist in the Embedding\n",
    "misses = 0 # Word Does not Exist in the Embedding\n",
    "embedding_matrix = np.zeros((len(word_indexes) + 1, EMBEDDING_DIM))\n",
    "for word, idx in word_index.items():\n",
    "    embedding_vector = embeddings_dict.get(word)\n",
    "    if embedding_vector is not None:\n",
    "        embedding_matrix[idx] = embedding_vector\n",
    "        hits += 1\n",
    "    else:\n",
    "        misses += 1\n",
    "        \n",
    "vocab_size = embedding_matrix.shape[0]\n",
    "print(\"Converted %d words (%d misses)\" % (hits, misses))"
   ]
  },
  {
   "cell_type": "code",
   "execution_count": 19,
   "metadata": {},
   "outputs": [
    {
     "name": "stdout",
     "output_type": "stream",
     "text": [
      "Model: \"CNN_model\"\n",
      "_________________________________________________________________\n",
      " Layer (type)                Output Shape              Param #   \n",
      "=================================================================\n",
      " embedding (Embedding)       (None, 100, 50)           979500    \n",
      "                                                                 \n",
      " conv1d (Conv1D)             (None, 100, 64)           9664      \n",
      "                                                                 \n",
      " conv1d_1 (Conv1D)           (None, 100, 64)           12352     \n",
      "                                                                 \n",
      " global_max_pooling1d (Glob  (None, 64)                0         \n",
      " alMaxPooling1D)                                                 \n",
      "                                                                 \n",
      " dense (Dense)               (None, 32)                2080      \n",
      "                                                                 \n",
      " dense_1 (Dense)             (None, 32)                1056      \n",
      "                                                                 \n",
      " dense_2 (Dense)             (None, 5)                 165       \n",
      "                                                                 \n",
      "=================================================================\n",
      "Total params: 1004817 (3.83 MB)\n",
      "Trainable params: 25317 (98.89 KB)\n",
      "Non-trainable params: 979500 (3.74 MB)\n",
      "_________________________________________________________________\n"
     ]
    }
   ],
   "source": [
    "import tensorflow as tf\n",
    "from tensorflow.keras import Sequential\n",
    "from tensorflow.keras.layers import Embedding, Input, Conv1D, GlobalMaxPooling1D, MaxPooling1D, Dense, Dropout, BatchNormalization\n",
    "\n",
    "## Define the Model\n",
    "cnn_model = Sequential(name=\"CNN_model\")\n",
    "\n",
    "## Input Layer\n",
    "cnn_model.add(Input(shape = (MAX_SEQUENCE_LENGTH,), dtype = tf.int32))\n",
    "\n",
    "## Embedding Layer:\n",
    "embedding_layer = Embedding(\n",
    "    input_dim = vocab_size,\n",
    "    output_dim = EMBEDDING_DIM,\n",
    "    input_length = MAX_SEQUENCE_LENGTH,\n",
    "    weights = [embedding_matrix],  # Pre-trained Embeddings\n",
    "    trainable = False \n",
    ")\n",
    "cnn_model.add(embedding_layer)\n",
    "\n",
    "## Hidden Layers: Convolution Neural Network\n",
    "cnn_model.add(Conv1D(filters=64, kernel_size = 3, padding = \"same\", activation = \"relu\"))\n",
    "cnn_model.add(Conv1D(filters=64, kernel_size = 3, padding = \"same\", activation = \"relu\")) \n",
    "cnn_model.add(GlobalMaxPooling1D())\n",
    "\n",
    "## Hidden Layers: Fully connected layer\n",
    "cnn_model.add(Dense(32, activation='relu'))\n",
    "Dropout(rate=0.2, seed=SEED) \n",
    "cnn_model.add(Dense(32, activation='relu')) \n",
    "Dropout(rate=0.1, seed=SEED) \n",
    "\n",
    "## Output Layer: Multiclass Classification (n = 5) - SoftMax Activation\n",
    "cnn_model.add(Dense(5, activation=\"softmax\"))\n",
    "\n",
    "## Get Model Summary\n",
    "cnn_model.summary()"
   ]
  },
  {
   "cell_type": "code",
   "execution_count": 20,
   "metadata": {},
   "outputs": [],
   "source": [
    "from tensorflow.keras.optimizers import Adam\n",
    "\n",
    "EPOCHS = 20\n",
    "BATCH_SIZE = 18\n",
    "LEARNING_RATE = 0.001\n",
    "\n",
    "cnn_model_opt = Adam(learning_rate = LEARNING_RATE)\n",
    "\n",
    "cnn_model.compile(loss = \"sparse_categorical_crossentropy\", \n",
    "                   optimizer = cnn_model_opt, \n",
    "                   metrics = [\"accuracy\"])"
   ]
  },
  {
   "cell_type": "code",
   "execution_count": 21,
   "metadata": {},
   "outputs": [
    {
     "name": "stdout",
     "output_type": "stream",
     "text": [
      "Epoch 1/20\n",
      "523/523 [==============================] - 3s 5ms/step - loss: 1.5888 - accuracy: 0.2385 - val_loss: 1.5031 - val_accuracy: 0.3098\n",
      "Epoch 2/20\n",
      "523/523 [==============================] - 2s 4ms/step - loss: 1.4642 - accuracy: 0.3317 - val_loss: 1.4301 - val_accuracy: 0.3470\n",
      "Epoch 3/20\n",
      "523/523 [==============================] - 2s 4ms/step - loss: 1.3465 - accuracy: 0.4062 - val_loss: 1.3762 - val_accuracy: 0.3862\n",
      "Epoch 4/20\n",
      "523/523 [==============================] - 2s 4ms/step - loss: 1.2313 - accuracy: 0.4642 - val_loss: 1.3742 - val_accuracy: 0.4054\n",
      "Epoch 5/20\n",
      "523/523 [==============================] - 2s 4ms/step - loss: 1.1289 - accuracy: 0.5174 - val_loss: 1.3486 - val_accuracy: 0.4044\n",
      "Epoch 6/20\n",
      "523/523 [==============================] - 2s 4ms/step - loss: 1.0066 - accuracy: 0.5748 - val_loss: 1.4424 - val_accuracy: 0.4101\n",
      "Epoch 7/20\n",
      "523/523 [==============================] - 2s 4ms/step - loss: 0.9051 - accuracy: 0.6240 - val_loss: 1.5947 - val_accuracy: 0.3939\n",
      "Epoch 8/20\n",
      "523/523 [==============================] - 3s 5ms/step - loss: 0.8207 - accuracy: 0.6567 - val_loss: 1.7014 - val_accuracy: 0.4015\n",
      "Epoch 9/20\n",
      "523/523 [==============================] - 2s 4ms/step - loss: 0.7100 - accuracy: 0.7082 - val_loss: 1.8049 - val_accuracy: 0.4159\n",
      "Epoch 10/20\n",
      "523/523 [==============================] - 2s 4ms/step - loss: 0.6432 - accuracy: 0.7353 - val_loss: 2.1409 - val_accuracy: 0.3881\n",
      "Epoch 11/20\n",
      "523/523 [==============================] - 2s 4ms/step - loss: 0.5743 - accuracy: 0.7647 - val_loss: 2.2619 - val_accuracy: 0.3996\n",
      "Epoch 12/20\n",
      "523/523 [==============================] - 2s 4ms/step - loss: 0.5202 - accuracy: 0.7948 - val_loss: 2.3822 - val_accuracy: 0.3872\n",
      "Epoch 13/20\n",
      "523/523 [==============================] - 2s 4ms/step - loss: 0.4914 - accuracy: 0.8026 - val_loss: 2.4943 - val_accuracy: 0.3996\n"
     ]
    }
   ],
   "source": [
    "from tensorflow.keras.callbacks import EarlyStopping\n",
    "\n",
    "early = EarlyStopping(monitor = \"val_accuracy\",\n",
    "                      patience = 4,\n",
    "                      restore_best_weights = True,\n",
    "                      mode = \"auto\")\n",
    "\n",
    "# For Reproducibility\n",
    "keras.utils.set_random_seed(SEED)\n",
    "tf.random.set_seed(SEED)\n",
    "tf.config.experimental.enable_op_determinism()\n",
    "\n",
    "## Run the Model\n",
    "cnn_history = cnn_model.fit(x = X_train_padded, \n",
    "                            y = Y_train_encoded,\n",
    "                            epochs = EPOCHS, \n",
    "                            batch_size = BATCH_SIZE,\n",
    "                            validation_split = 0.1,\n",
    "                            callbacks=[early])"
   ]
  },
  {
   "cell_type": "code",
   "execution_count": 22,
   "metadata": {
    "scrolled": true
   },
   "outputs": [
    {
     "data": {
      "image/png": "[encoded data removed]",
      "text/plain": [
       "<Figure size 432x288 with 1 Axes>"
      ]
     },
     "metadata": {
      "needs_background": "light"
     },
     "output_type": "display_data"
    },
    {
     "data": {
      "image/png": "[encoded data removed]",
      "text/plain": [
       "<Figure size 432x288 with 1 Axes>"
      ]
     },
     "metadata": {
      "needs_background": "light"
     },
     "output_type": "display_data"
    }
   ],
   "source": [
    "plt.title('Convolution Neural Network Training Loss')\n",
    "plt.plot(cnn_history.history['loss'], label='Training')\n",
    "plt.plot(cnn_history.history['val_loss'], label='Validation')\n",
    "plt.ylim(bottom=0.0)\n",
    "plt.xlabel(\"Epochs\")\n",
    "plt.ylabel(\"Loss\")\n",
    "plt.legend()\n",
    "plt.show();\n",
    "\n",
    "plt.title('Convolution Neural Network Training Accuracy')\n",
    "plt.plot(cnn_history.history['accuracy'], label='Training')\n",
    "plt.plot(cnn_history.history['val_accuracy'], label='validation')\n",
    "plt.ylim(bottom=0.0,top=1.01)\n",
    "plt.xlabel(\"Epochs\")\n",
    "plt.ylabel(\"Accuracy\")\n",
    "plt.legend()\n",
    "plt.show();"
   ]
  },
  {
   "cell_type": "code",
   "execution_count": 23,
   "metadata": {},
   "outputs": [],
   "source": [
    "## Save File: Task 7\n",
    "import pickle\n",
    "\n",
    "cnn_model_file_name = \"cnn_model.pkl\"\n",
    "with open(cnn_model_file_name, \"wb\") as file:\n",
    "    pickle.dump(cnn_model, file)"
   ]
  },
  {
   "cell_type": "markdown",
   "metadata": {
    "deletable": false,
    "editable": false,
    "nbgrader": {
     "cell_type": "markdown",
     "checksum": "74843fe33a4f86a21469871aac52bb90",
     "grade": false,
     "grade_id": "cell-a985e9ca1140281d",
     "locked": true,
     "schema_version": 3,
     "solution": false,
     "task": false
    }
   },
   "source": [
    "## Implementation - Task 5\n",
    "Implement a Recurrent Neural Network (RNN) or a Long Short-Term Memory (LSTM) model for predicting the rating of a food review. The model must have at least two RNN/LSTM layers. Train your model on the training set and test it on the test set. Use an appropriate text representation. (**12%**)"
   ]
  },
  {
   "cell_type": "code",
   "execution_count": 24,
   "metadata": {
    "deletable": false,
    "nbgrader": {
     "cell_type": "code",
     "checksum": "eb7179dcc099d3d51db8e0d4d4c53c7b",
     "grade": true,
     "grade_id": "cell-76f081948cba4b02",
     "locked": false,
     "points": 12,
     "schema_version": 3,
     "solution": true,
     "task": false
    }
   },
   "outputs": [
    {
     "name": "stdout",
     "output_type": "stream",
     "text": [
      "Vocabulary size: 5000 words.\n",
      "Converted 4858 words (142 misses)\n"
     ]
    }
   ],
   "source": [
    "## LSTM Model will be using Pre-trained Embeddings\n",
    "import keras\n",
    "from tensorflow.keras.preprocessing.text import Tokenizer\n",
    "from tensorflow.keras.preprocessing.sequence import pad_sequences\n",
    "from tensorflow.keras.layers import TextVectorization\n",
    "import numpy as np\n",
    "\n",
    "## Define Hyper Parameters\n",
    "MAX_VOCABULARY_WORDS = 5000\n",
    "MAX_SEQUENCE_LENGTH = 100\n",
    "EMBEDDING_DIM = 50 # Based on the file embedding\n",
    "SCORE_CLASSES = 5 # Predictor Classes\n",
    "\n",
    "## Initializer Tokenizer \"Training Tokenizer\"\n",
    "tokenizer = Tokenizer(num_words = MAX_VOCABULARY_WORDS)\n",
    "tokenizer.fit_on_texts(X_train)\n",
    "word_indexes = tokenizer.word_index\n",
    "\n",
    "## As we are using the tokenizer which is fit on the training for future models\n",
    "\n",
    "## Convert text into sequences\n",
    "X_train_sequences = tokenizer.texts_to_sequences(X_train)\n",
    "X_test_sequences = tokenizer.texts_to_sequences(X_test)\n",
    "\n",
    "## Add Padding to make uniform length\n",
    "X_train_padded = pad_sequences(X_train_sequences, \n",
    "                               maxlen = MAX_SEQUENCE_LENGTH, \n",
    "                               padding = \"post\")\n",
    "X_test_padded = pad_sequences(X_test_sequences, \n",
    "                              maxlen = MAX_SEQUENCE_LENGTH, \n",
    "                              padding = \"post\")\n",
    "\n",
    "## Vectorize Training Vocabulary\n",
    "## Text -> Vocabulary Vector\n",
    "vectorizer = TextVectorization(max_tokens = MAX_VOCABULARY_WORDS,\n",
    "                                   output_sequence_length = MAX_SEQUENCE_LENGTH)\n",
    "vectorizer.adapt(X_train)\n",
    "vocabulary = vectorizer.get_vocabulary()\n",
    "word_index = dict(zip(vocabulary, range(len(vocabulary)))) # Create Indexes of words\n",
    "print(\"Vocabulary size: \" + str(len(vocabulary)) + \" words.\")\n",
    "\n",
    "## Load Pre-trained Embeddings\n",
    "## File is in the submission directory\n",
    "embeddings_dict = {}\n",
    "with open(\"glove.6B.50d.txt\", \"r\") as file:\n",
    "    counter = 1\n",
    "    for line in file: # Each Line represent a vector of embeddings\n",
    "        values = line.split() # Turn into a list\n",
    "        word = values[0] # Get word\n",
    "        vector = np.asarray(values[1:], \"float32\") # 1: end = embeddings\n",
    "        embeddings_dict[word] = vector # Add into the dict\n",
    "\n",
    "## Create Embedding Dict\n",
    "hits = 0 # Word Exist in the Embedding\n",
    "misses = 0 # Word Does not Exist in the Embedding\n",
    "embedding_matrix = np.zeros((len(word_indexes) + 1, EMBEDDING_DIM))\n",
    "for word, idx in word_index.items():\n",
    "    embedding_vector = embeddings_dict.get(word)\n",
    "    if embedding_vector is not None:\n",
    "        embedding_matrix[idx] = embedding_vector\n",
    "        hits += 1\n",
    "    else:\n",
    "        misses += 1\n",
    "        \n",
    "vocab_size = embedding_matrix.shape[0]\n",
    "print(\"Converted %d words (%d misses)\" % (hits, misses))"
   ]
  },
  {
   "cell_type": "code",
   "execution_count": 25,
   "metadata": {},
   "outputs": [
    {
     "name": "stdout",
     "output_type": "stream",
     "text": [
      "Model: \"LSTM_model\"\n",
      "_________________________________________________________________\n",
      " Layer (type)                Output Shape              Param #   \n",
      "=================================================================\n",
      " embedding_1 (Embedding)     (None, 100, 50)           979500    \n",
      "                                                                 \n",
      " bidirectional (Bidirection  (None, 100, 64)           21248     \n",
      " al)                                                             \n",
      "                                                                 \n",
      " bidirectional_1 (Bidirecti  (None, 64)                24832     \n",
      " onal)                                                           \n",
      "                                                                 \n",
      " dense_3 (Dense)             (None, 32)                2080      \n",
      "                                                                 \n",
      " dense_4 (Dense)             (None, 32)                1056      \n",
      "                                                                 \n",
      " dense_5 (Dense)             (None, 5)                 165       \n",
      "                                                                 \n",
      "=================================================================\n",
      "Total params: 1028881 (3.92 MB)\n",
      "Trainable params: 49381 (192.89 KB)\n",
      "Non-trainable params: 979500 (3.74 MB)\n",
      "_________________________________________________________________\n"
     ]
    }
   ],
   "source": [
    "from tensorflow.keras import Sequential\n",
    "from tensorflow.keras.layers import Input, Embedding, LSTM, Dense, Bidirectional\n",
    "\n",
    "## Define the Model\n",
    "lstm_model = Sequential(name=\"LSTM_model\")\n",
    "\n",
    "## Input Layer\n",
    "lstm_model.add(Input(shape = (MAX_SEQUENCE_LENGTH,), dtype = tf.int32))\n",
    "\n",
    "## Embedding Layer:\n",
    "embedding_layer = Embedding(\n",
    "    input_dim = vocab_size,\n",
    "    output_dim = EMBEDDING_DIM,\n",
    "    input_length = MAX_SEQUENCE_LENGTH,\n",
    "    weights = [embedding_matrix],  # Pre-trained Embeddings\n",
    "    trainable = False\n",
    ")\n",
    "lstm_model.add(embedding_layer)\n",
    "\n",
    "## Hidden Layer: LSTM Model\n",
    "lstm_model.add(Bidirectional(LSTM(32, return_sequences = True,\n",
    "                                 seed = SEED)))\n",
    "lstm_model.add(Bidirectional(LSTM(32, go_backwards = True, \n",
    "                                  dropout = 0.2,\n",
    "                                 seed = SEED)))\n",
    "\n",
    "## Dense Layer\n",
    "lstm_model.add(Dense(32, activation='relu')) \n",
    "Dropout(rate=0.2, seed = SEED) \n",
    "lstm_model.add(Dense(32, activation='relu'))#016\n",
    "Dropout(rate=0.1, seed = SEED) #0.2\n",
    "\n",
    "## Output Layer: Multiclass Classification (n = 5) - SoftMax Activation\n",
    "lstm_model.add(Dense(SCORE_CLASSES, activation = \"softmax\"))\n",
    "\n",
    "## Get Model Summary\n",
    "lstm_model.summary() # Print model summary"
   ]
  },
  {
   "cell_type": "code",
   "execution_count": 26,
   "metadata": {},
   "outputs": [],
   "source": [
    "from tensorflow.keras.optimizers import Adam\n",
    "\n",
    "EPOCHS = 20\n",
    "BATCH_SIZE = 32\n",
    "LEARNING_RATE = 0.005\n",
    "\n",
    "lstm_model_opt = Adam(learning_rate = LEARNING_RATE)\n",
    "\n",
    "lstm_model.compile(loss = \"sparse_categorical_crossentropy\", \n",
    "                   optimizer = lstm_model_opt, \n",
    "                   metrics = [\"accuracy\"])"
   ]
  },
  {
   "cell_type": "code",
   "execution_count": 27,
   "metadata": {},
   "outputs": [
    {
     "name": "stdout",
     "output_type": "stream",
     "text": [
      "Epoch 1/20\n",
      "295/295 [==============================] - 30s 85ms/step - loss: 1.5518 - accuracy: 0.2736 - val_loss: 1.4717 - val_accuracy: 0.3413\n",
      "Epoch 2/20\n",
      "295/295 [==============================] - 27s 91ms/step - loss: 1.4407 - accuracy: 0.3461 - val_loss: 1.3818 - val_accuracy: 0.3728\n",
      "Epoch 3/20\n",
      "295/295 [==============================] - 29s 98ms/step - loss: 1.3558 - accuracy: 0.3892 - val_loss: 1.3475 - val_accuracy: 0.4111\n",
      "Epoch 4/20\n",
      "295/295 [==============================] - 30s 102ms/step - loss: 1.2963 - accuracy: 0.4251 - val_loss: 1.2867 - val_accuracy: 0.4293\n",
      "Epoch 5/20\n",
      "295/295 [==============================] - 26s 90ms/step - loss: 1.2312 - accuracy: 0.4553 - val_loss: 1.2838 - val_accuracy: 0.4512\n",
      "Epoch 6/20\n",
      "295/295 [==============================] - 24s 80ms/step - loss: 1.1752 - accuracy: 0.4871 - val_loss: 1.2657 - val_accuracy: 0.4493\n",
      "Epoch 7/20\n",
      "295/295 [==============================] - 24s 80ms/step - loss: 1.1285 - accuracy: 0.5028 - val_loss: 1.2450 - val_accuracy: 0.4608\n",
      "Epoch 8/20\n",
      "295/295 [==============================] - 27s 91ms/step - loss: 1.0743 - accuracy: 0.5327 - val_loss: 1.2659 - val_accuracy: 0.4465\n",
      "Epoch 9/20\n",
      "295/295 [==============================] - 23s 77ms/step - loss: 1.0438 - accuracy: 0.5386 - val_loss: 1.3157 - val_accuracy: 0.4751\n",
      "Epoch 10/20\n",
      "295/295 [==============================] - 25s 84ms/step - loss: 0.9859 - accuracy: 0.5721 - val_loss: 1.4202 - val_accuracy: 0.4618\n",
      "Epoch 11/20\n",
      "295/295 [==============================] - 22s 76ms/step - loss: 0.9423 - accuracy: 0.5901 - val_loss: 1.3455 - val_accuracy: 0.4532\n",
      "Epoch 12/20\n",
      "295/295 [==============================] - 27s 90ms/step - loss: 0.8974 - accuracy: 0.6119 - val_loss: 1.4161 - val_accuracy: 0.4646\n",
      "Epoch 13/20\n",
      "295/295 [==============================] - 23s 77ms/step - loss: 0.8632 - accuracy: 0.6289 - val_loss: 1.4342 - val_accuracy: 0.4436\n"
     ]
    }
   ],
   "source": [
    "from tensorflow.keras.callbacks import EarlyStopping\n",
    "\n",
    "early = EarlyStopping(monitor = \"val_accuracy\",\n",
    "                      patience = 4,\n",
    "                      restore_best_weights = True,\n",
    "                      mode = \"auto\")\n",
    "\n",
    "## For Reproducibility\n",
    "keras.utils.set_random_seed(SEED)\n",
    "tf.random.set_seed(SEED)\n",
    "tf.config.experimental.enable_op_determinism()\n",
    "\n",
    "## Run the Model\n",
    "lstm_history = lstm_model.fit(x = X_train_padded, \n",
    "                            y = Y_train_encoded,\n",
    "                            epochs = EPOCHS, \n",
    "                            batch_size = BATCH_SIZE,\n",
    "                            validation_split = 0.1,\n",
    "                            callbacks=[early])"
   ]
  },
  {
   "cell_type": "code",
   "execution_count": 28,
   "metadata": {},
   "outputs": [
    {
     "data": {
      "image/png": "[encoded data removed]",
      "text/plain": [
       "<Figure size 432x288 with 1 Axes>"
      ]
     },
     "metadata": {
      "needs_background": "light"
     },
     "output_type": "display_data"
    },
    {
     "data": {
      "image/png": "[encoded data removed]",
      "text/plain": [
       "<Figure size 432x288 with 1 Axes>"
      ]
     },
     "metadata": {
      "needs_background": "light"
     },
     "output_type": "display_data"
    }
   ],
   "source": [
    "plt.title('Long Short-Term Memory Training Loss')\n",
    "plt.plot(lstm_history.history['loss'], label='Training')\n",
    "plt.plot(lstm_history.history['val_loss'], label='Validation')\n",
    "plt.ylim(bottom=0.0)\n",
    "plt.xlabel(\"Epochs\")\n",
    "plt.ylabel(\"Loss\")\n",
    "plt.legend()\n",
    "plt.show();\n",
    "\n",
    "plt.title('Long Short-Term Memory Training Accuracy')\n",
    "plt.plot(lstm_history.history['accuracy'], label='Training')\n",
    "plt.plot(lstm_history.history['val_accuracy'], label='Validation')\n",
    "plt.ylim(bottom=0.0,top=1.01)\n",
    "plt.xlabel(\"Epochs\")\n",
    "plt.ylabel(\"Accuracy\")\n",
    "plt.legend()\n",
    "plt.show();"
   ]
  },
  {
   "cell_type": "code",
   "execution_count": 29,
   "metadata": {},
   "outputs": [],
   "source": [
    "## Save File: Task 7\n",
    "import pickle\n",
    "\n",
    "lstm_model_file_name = \"lstm_model.pkl\"\n",
    "with open(lstm_model_file_name, \"wb\") as file:\n",
    "    pickle.dump(lstm_model, file)"
   ]
  },
  {
   "cell_type": "markdown",
   "metadata": {
    "deletable": false,
    "editable": false,
    "nbgrader": {
     "cell_type": "markdown",
     "checksum": "c5e477712b6bad9901556381dd829392",
     "grade": false,
     "grade_id": "cell-9f3d1c8c43462384",
     "locked": true,
     "schema_version": 3,
     "solution": false,
     "task": false
    }
   },
   "source": [
    "## Implementation - Task 6\n",
    "Compute the confusion matrix, accuracy, F1-score, precision and recall for each model. (10%)"
   ]
  },
  {
   "cell_type": "code",
   "execution_count": 30,
   "metadata": {
    "deletable": false,
    "nbgrader": {
     "cell_type": "code",
     "checksum": "5080f7d517214809afe68eee9318b427",
     "grade": true,
     "grade_id": "cell-b3a9e53040d493c1",
     "locked": false,
     "points": 10,
     "schema_version": 3,
     "solution": true,
     "task": false
    },
    "scrolled": true
   },
   "outputs": [
    {
     "data": {
      "image/png": "[encoded data removed]",
      "text/plain": [
       "<Figure size 432x288 with 2 Axes>"
      ]
     },
     "metadata": {},
     "output_type": "display_data"
    },
    {
     "name": "stdout",
     "output_type": "stream",
     "text": [
      "Naive Bayes Performance\n",
      "Accuracy:\t0.505938\n",
      "F1-score:\t0.409724\n",
      "Precision:\t0.411651\n",
      "Recall:\t\t0.465160\n",
      "\n",
      "Classification performance:\n",
      "              precision    recall  f1-score   support\n",
      "\n",
      "           1       0.49      0.56      0.52      1571\n",
      "           2       0.19      0.32      0.24       896\n",
      "           3       0.24      0.42      0.30      1286\n",
      "           4       0.23      0.49      0.32      2421\n",
      "           5       0.91      0.53      0.67     10836\n",
      "\n",
      "    accuracy                           0.51     17010\n",
      "   macro avg       0.41      0.47      0.41     17010\n",
      "weighted avg       0.69      0.51      0.55     17010\n",
      "\n"
     ]
    }
   ],
   "source": [
    "## Import Libraries\n",
    "from sklearn.metrics import confusion_matrix, accuracy_score, f1_score, precision_score, recall_score, classification_report\n",
    "import seaborn as sns\n",
    "import matplotlib.pyplot as plt\n",
    "\n",
    "sns.set()\n",
    "\n",
    "## Confusion Matrix for Naive Bayes\n",
    "score_labels = [\"1\", \"2\", \"3\", \"4\", \"5\"]\n",
    "nb_mat = confusion_matrix(Y_test, nb_pred_scores)\n",
    "sns.heatmap(nb_mat.T, square = True, annot=True, fmt = \"d\", \n",
    "            xticklabels = score_labels, \n",
    "            yticklabels = score_labels)\n",
    "plt.xlabel(\"True Scores\")\n",
    "plt.ylabel(\"Predicted Scores\")\n",
    "plt.show()\n",
    "\n",
    "## Compute and print classification performance metrics\n",
    "print(\"Naive Bayes Performance\")\n",
    "print(\"Accuracy:\\t%f\" % accuracy_score(Y_test, nb_pred_scores))\n",
    "print(\"F1-score:\\t%f\" % f1_score(Y_test, nb_pred_scores, average='macro'))\n",
    "print(\"Precision:\\t%f\" % precision_score(Y_test, nb_pred_scores, average='macro'))\n",
    "print(\"Recall:\\t\\t%f\" % recall_score(Y_test, nb_pred_scores, average='macro'))\n",
    "print(\"\\nClassification performance:\\n%s\" % classification_report(Y_test, nb_pred_scores))"
   ]
  },
  {
   "cell_type": "code",
   "execution_count": 31,
   "metadata": {
    "scrolled": true
   },
   "outputs": [
    {
     "data": {
      "image/png": "[encoded data removed]",
      "text/plain": [
       "<Figure size 432x288 with 2 Axes>"
      ]
     },
     "metadata": {},
     "output_type": "display_data"
    },
    {
     "name": "stdout",
     "output_type": "stream",
     "text": [
      "Best k-Nearest Neighbour Performance\n",
      "Accuracy:\t0.299236\n",
      "F1-score:\t0.235534\n",
      "Precision:\t0.273816\n",
      "Recall:\t\t0.300619\n",
      "\n",
      "Classification performance:\n",
      "              precision    recall  f1-score   support\n",
      "\n",
      "           1       0.21      0.46      0.29      1571\n",
      "           2       0.07      0.31      0.12       896\n",
      "           3       0.10      0.21      0.13      1286\n",
      "           4       0.17      0.21      0.19      2421\n",
      "           5       0.81      0.30      0.44     10836\n",
      "\n",
      "    accuracy                           0.30     17010\n",
      "   macro avg       0.27      0.30      0.24     17010\n",
      "weighted avg       0.57      0.30      0.35     17010\n",
      "\n"
     ]
    }
   ],
   "source": [
    "## Best K-NN Model Prediction\n",
    "\n",
    "## Confusion Matrix for Best K-NN Model\n",
    "score_labels = [\"1\", \"2\", \"3\", \"4\", \"5\"]\n",
    "knn_mat = confusion_matrix(Y_test, knn_pred_scores)\n",
    "sns.heatmap(knn_mat.T, square = True, annot=True, fmt = \"d\", \n",
    "            xticklabels = score_labels, \n",
    "            yticklabels = score_labels)\n",
    "plt.xlabel(\"True Scores\")\n",
    "plt.ylabel(\"Predicted Scores\")\n",
    "plt.show()\n",
    "\n",
    "## Compute and print classification performance metrics\n",
    "print(\"Best k-Nearest Neighbour Performance\")\n",
    "print(\"Accuracy:\\t%f\" % accuracy_score(Y_test, knn_pred_scores))\n",
    "print(\"F1-score:\\t%f\" % f1_score(Y_test, knn_pred_scores, average='macro'))\n",
    "print(\"Precision:\\t%f\" % precision_score(Y_test, knn_pred_scores, average='macro'))\n",
    "print(\"Recall:\\t\\t%f\" % recall_score(Y_test, knn_pred_scores, average='macro'))\n",
    "print(\"\\nClassification performance:\\n%s\" % classification_report(Y_test, knn_pred_scores))"
   ]
  },
  {
   "cell_type": "code",
   "execution_count": 32,
   "metadata": {
    "scrolled": true
   },
   "outputs": [
    {
     "name": "stdout",
     "output_type": "stream",
     "text": [
      "532/532 [==============================] - 1s 2ms/step\n"
     ]
    },
    {
     "data": {
      "image/png": "[encoded data removed]",
      "text/plain": [
       "<Figure size 432x288 with 2 Axes>"
      ]
     },
     "metadata": {},
     "output_type": "display_data"
    },
    {
     "name": "stdout",
     "output_type": "stream",
     "text": [
      "Convolution Neural Network Performance\n",
      "Accuracy:\t0.426631\n",
      "F1-score:\t0.318356\n",
      "Precision:\t0.324777\n",
      "Recall:\t\t0.376366\n",
      "\n",
      "Classification performance:\n",
      "              precision    recall  f1-score   support\n",
      "\n",
      "           1       0.26      0.57      0.36      1571\n",
      "           2       0.12      0.27      0.16       896\n",
      "           3       0.20      0.24      0.22      1286\n",
      "           4       0.21      0.36      0.26      2421\n",
      "           5       0.84      0.46      0.59     10836\n",
      "\n",
      "    accuracy                           0.43     17010\n",
      "   macro avg       0.32      0.38      0.32     17010\n",
      "weighted avg       0.61      0.43      0.47     17010\n",
      "\n"
     ]
    }
   ],
   "source": [
    "## Predicting CNN\n",
    "cnn_pred_scores_prob = cnn_model.predict(X_test_padded)\n",
    "\n",
    "## Decode It\n",
    "scores_label_dict = {0: 1, 1: 2, 2: 3, 3: 4, 4: 5}\n",
    "cnn_pred_scores = np.argmax(cnn_pred_scores_prob, axis=1) # Select the highest prob\n",
    "cnn_pred_scores = cnn_pred_scores.tolist() # Change into list\n",
    "cnn_pred_scores = [scores_label_dict[pred] for pred in cnn_pred_scores] # label it\n",
    "\n",
    "## Confusion Matrix for Convolution Neural Network\n",
    "score_labels = [\"1\", \"2\", \"3\", \"4\", \"5\"]\n",
    "cnn_mat = confusion_matrix(Y_test, cnn_pred_scores)\n",
    "sns.heatmap(cnn_mat.T, square = True, annot=True, fmt = \"d\", \n",
    "            xticklabels = score_labels, \n",
    "            yticklabels = score_labels)\n",
    "plt.xlabel(\"True Scores\")\n",
    "plt.ylabel(\"Predicted Scores\")\n",
    "plt.show()\n",
    "\n",
    "## Compute and print classification performance metrics\n",
    "print(\"Convolution Neural Network Performance\")\n",
    "print(\"Accuracy:\\t%f\" % accuracy_score(Y_test, cnn_pred_scores))\n",
    "print(\"F1-score:\\t%f\" % f1_score(Y_test, cnn_pred_scores, average='macro'))\n",
    "print(\"Precision:\\t%f\" % precision_score(Y_test, cnn_pred_scores, average='macro'))\n",
    "print(\"Recall:\\t\\t%f\" % recall_score(Y_test, cnn_pred_scores, average='macro'))\n",
    "print(\"\\nClassification performance:\\n%s\" % classification_report(Y_test, cnn_pred_scores))"
   ]
  },
  {
   "cell_type": "code",
   "execution_count": 33,
   "metadata": {
    "scrolled": true
   },
   "outputs": [
    {
     "name": "stdout",
     "output_type": "stream",
     "text": [
      "532/532 [==============================] - 13s 22ms/step\n"
     ]
    },
    {
     "data": {
      "image/png": "[encoded data removed]",
      "text/plain": [
       "<Figure size 432x288 with 2 Axes>"
      ]
     },
     "metadata": {},
     "output_type": "display_data"
    },
    {
     "name": "stdout",
     "output_type": "stream",
     "text": [
      "LSTM Neural Network Performance\n",
      "Accuracy:\t0.444386\n",
      "F1-score:\t0.362293\n",
      "Precision:\t0.374332\n",
      "Recall:\t\t0.431681\n",
      "\n",
      "Classification performance:\n",
      "              precision    recall  f1-score   support\n",
      "\n",
      "           1       0.44      0.58      0.50      1571\n",
      "           2       0.13      0.43      0.20       896\n",
      "           3       0.18      0.28      0.22      1286\n",
      "           4       0.23      0.42      0.29      2421\n",
      "           5       0.89      0.45      0.60     10836\n",
      "\n",
      "    accuracy                           0.44     17010\n",
      "   macro avg       0.37      0.43      0.36     17010\n",
      "weighted avg       0.66      0.44      0.50     17010\n",
      "\n"
     ]
    }
   ],
   "source": [
    "## Predicting LSTM\n",
    "lstm_pred_scores_prob = lstm_model.predict(X_test_padded)\n",
    "\n",
    "## Decode It\n",
    "scores_label_dict = {0: 1, 1: 2, 2: 3, 3: 4, 4: 5}\n",
    "lstm_pred_scores = np.argmax(lstm_pred_scores_prob, axis=1) # Select the highest prob\n",
    "lstm_pred_scores = lstm_pred_scores.tolist() # Change into list\n",
    "lstm_pred_scores = [scores_label_dict[pred] for pred in lstm_pred_scores] # label it\n",
    "\n",
    "## Confusion Matrix for Convolution Neural Network\n",
    "score_labels = [\"1\", \"2\", \"3\", \"4\", \"5\"]\n",
    "lstm_mat = confusion_matrix(Y_test, lstm_pred_scores)\n",
    "sns.heatmap(lstm_mat.T, square = True, annot=True, fmt = \"d\", \n",
    "            xticklabels = score_labels, \n",
    "            yticklabels = score_labels)\n",
    "plt.xlabel(\"True Scores\")\n",
    "plt.ylabel(\"Predicted Scores\")\n",
    "plt.show()\n",
    "\n",
    "## Compute and print classification performance metrics\n",
    "print(\"LSTM Neural Network Performance\")\n",
    "print(\"Accuracy:\\t%f\" % accuracy_score(Y_test, lstm_pred_scores))\n",
    "print(\"F1-score:\\t%f\" % f1_score(Y_test, lstm_pred_scores, average='macro'))\n",
    "print(\"Precision:\\t%f\" % precision_score(Y_test, lstm_pred_scores, average='macro'))\n",
    "print(\"Recall:\\t\\t%f\" % recall_score(Y_test, lstm_pred_scores, average='macro'))\n",
    "print(\"\\nClassification performance:\\n%s\" % classification_report(Y_test, lstm_pred_scores))"
   ]
  },
  {
   "cell_type": "code",
   "execution_count": 34,
   "metadata": {},
   "outputs": [
    {
     "name": "stdout",
     "output_type": "stream",
     "text": [
      "-------------------- Overall Model Comparision --------------------\n"
     ]
    },
    {
     "data": {
      "text/html": [
       "<div>\n",
       "<style scoped>\n",
       "    .dataframe tbody tr th:only-of-type {\n",
       "        vertical-align: middle;\n",
       "    }\n",
       "\n",
       "    .dataframe tbody tr th {\n",
       "        vertical-align: top;\n",
       "    }\n",
       "\n",
       "    .dataframe thead th {\n",
       "        text-align: right;\n",
       "    }\n",
       "</style>\n",
       "<table border=\"1\" class=\"dataframe\">\n",
       "  <thead>\n",
       "    <tr style=\"text-align: right;\">\n",
       "      <th></th>\n",
       "      <th>model_name</th>\n",
       "      <th>accuracy</th>\n",
       "      <th>F1</th>\n",
       "      <th>precision</th>\n",
       "      <th>recall</th>\n",
       "    </tr>\n",
       "  </thead>\n",
       "  <tbody>\n",
       "    <tr>\n",
       "      <th>0</th>\n",
       "      <td>Naive Bayes</td>\n",
       "      <td>0.505938</td>\n",
       "      <td>0.409724</td>\n",
       "      <td>0.411651</td>\n",
       "      <td>0.465160</td>\n",
       "    </tr>\n",
       "    <tr>\n",
       "      <th>1</th>\n",
       "      <td>k-Nearest Neighbor</td>\n",
       "      <td>0.299236</td>\n",
       "      <td>0.235534</td>\n",
       "      <td>0.273816</td>\n",
       "      <td>0.300619</td>\n",
       "    </tr>\n",
       "    <tr>\n",
       "      <th>2</th>\n",
       "      <td>Convolution Neural Network</td>\n",
       "      <td>0.426631</td>\n",
       "      <td>0.318356</td>\n",
       "      <td>0.324777</td>\n",
       "      <td>0.376366</td>\n",
       "    </tr>\n",
       "    <tr>\n",
       "      <th>3</th>\n",
       "      <td>Long Short-Term Memory</td>\n",
       "      <td>0.444386</td>\n",
       "      <td>0.362293</td>\n",
       "      <td>0.374332</td>\n",
       "      <td>0.431681</td>\n",
       "    </tr>\n",
       "  </tbody>\n",
       "</table>\n",
       "</div>"
      ],
      "text/plain": [
       "                   model_name  accuracy        F1  precision    recall\n",
       "0                 Naive Bayes  0.505938  0.409724   0.411651  0.465160\n",
       "1          k-Nearest Neighbor  0.299236  0.235534   0.273816  0.300619\n",
       "2  Convolution Neural Network  0.426631  0.318356   0.324777  0.376366\n",
       "3      Long Short-Term Memory  0.444386  0.362293   0.374332  0.431681"
      ]
     },
     "metadata": {},
     "output_type": "display_data"
    }
   ],
   "source": [
    "## Previously We print each Model Individually\n",
    "## Models\n",
    "model_names = [\"Naive Bayes\", \"k-Nearest Neighbor\", \"Convolution Neural Network\", \"Long Short-Term Memory\"]\n",
    "model_pred = [nb_pred_scores, knn_pred_scores, \n",
    "              cnn_pred_scores, lstm_pred_scores]\n",
    "\n",
    "## Saved Parameters\n",
    "model_accu = []\n",
    "model_f1 = []\n",
    "model_preci = []\n",
    "model_recall = []\n",
    "\n",
    "## loop to get data\n",
    "for prediction in model_pred:\n",
    "    model_accu.append(accuracy_score(Y_test, prediction))\n",
    "    model_f1.append(f1_score(Y_test, prediction, average='macro'))\n",
    "    model_preci.append(precision_score(Y_test, prediction, average='macro'))\n",
    "    model_recall.append(recall_score(Y_test, prediction, average='macro'))\n",
    "\n",
    "model_evaluation = {\"model_name\": model_names, \n",
    "                    \"accuracy\": model_accu, \"F1\": model_f1, \n",
    "                    \"precision\": model_preci, \"recall\": model_recall} \n",
    "\n",
    "model_comparision_df = pd.DataFrame(model_evaluation)\n",
    "\n",
    "## Display to Compare the models\n",
    "print(\"-\" * 20 + \" Overall Model Comparision \" + \"-\" * 20 )\n",
    "display(model_comparision_df)"
   ]
  },
  {
   "cell_type": "markdown",
   "metadata": {
    "deletable": false,
    "editable": false,
    "nbgrader": {
     "cell_type": "markdown",
     "checksum": "9def807c7734179b60c1d5121bbbd436",
     "grade": false,
     "grade_id": "cell-290a6e3bf464e305",
     "locked": true,
     "schema_version": 3,
     "solution": false,
     "task": false
    }
   },
   "source": [
    "## Implementation - Task 7\n",
    "Store the **four** trained models in files and implement a function `predict_food_review(text, model)` that given a <ins>text string</ins> (“`text`”) and model <ins>filename</ins> (“`model`”), it will load the pre-trained model, and predict the food review rating of the input text. The function should be able to work without requiring to rerun all or part of your code. (**10%**)"
   ]
  },
  {
   "cell_type": "code",
   "execution_count": 1,
   "metadata": {
    "deletable": false,
    "nbgrader": {
     "cell_type": "code",
     "checksum": "03a2117734166d6e91043d88d5c5ef8a",
     "grade": true,
     "grade_id": "cell-f384d017d7d6ac75",
     "locked": false,
     "points": 10,
     "schema_version": 3,
     "solution": true,
     "task": false
    }
   },
   "outputs": [],
   "source": [
    "## Task 7.1.1: Save All the Models\n",
    "## This was done after the creation of all the models.\n",
    "\n",
    "## Task 7.2: Predict Based on saved Models\n",
    "## This section Should Work by itself.\n",
    "\n",
    "## Libraries Import\n",
    "import pickle\n",
    "import re\n",
    "import numpy as np\n",
    "from nltk import word_tokenize, sent_tokenize\n",
    "from string import punctuation\n",
    "from nltk.corpus import stopwords\n",
    "from nltk import pos_tag\n",
    "from nltk.stem import WordNetLemmatizer\n",
    "from sklearn.feature_extraction.text import TfidfVectorizer\n",
    "from tensorflow.keras.preprocessing.text import Tokenizer\n",
    "from tensorflow.keras.preprocessing.sequence import pad_sequences\n",
    "\n",
    "def predict_food_review(text, model_name):\n",
    "    \"\"\"\n",
    "    Function that will get a text and will predict a model prediction score.\n",
    "    \"\"\"\n",
    "    \n",
    "    ## Define Parameters\n",
    "    available_models = [\"naive_bayes_model.pkl\", \"knn_model.pkl\", \"cnn_model.pkl\",\"lstm_model.pkl\"]\n",
    "    MAX_SEQUENCE_LENGTH = 100\n",
    "    PADDING = \"post\"\n",
    "    scores_label_dict = {0: 1, 1: 2, 2: 3, 3: 4, 4: 5}\n",
    "    \n",
    "    ## Cleaning Process\n",
    "    ## Cleaning Parameters\n",
    "    wnl = WordNetLemmatizer() \n",
    "    punc_list = list(punctuation)\n",
    "    stopwords_english = set(stopwords.words('english'))\n",
    "    negative_stopwords = set(['no', 'nor', 'not', 'off'])\n",
    "    updated_stopwords = stopwords_english - negative_stopwords\n",
    "    \n",
    "    ## Data Cleaning Functions\n",
    "    def expand_contract_word(text):\n",
    "        clean_text = text# Ensure consistency\n",
    "\n",
    "        ## Specific Contractions\n",
    "        ## With change in word form OR slight word modification\n",
    "        clean_text = re.sub(\"won\\'t\", \"will not\", clean_text) # I won't -> i will not\n",
    "        clean_text = re.sub(\"can\\'t\", \"can not\", clean_text) # I can't -> i can not\n",
    "        clean_text = re.sub(\"shan\\'t\", \"shall not\", clean_text) # I shan't -> i shall not\n",
    "        clean_text = re.sub(\"'cause\", \" because\", clean_text) # 'cause -> because\n",
    "\n",
    "        ## Without change in word form: couldn't, aren't,...\n",
    "        clean_text = re.sub(\"n\\'t\", \" not\", clean_text)\n",
    "\n",
    "        ## Present Tense Contraction \n",
    "        clean_text = re.sub(\"\\'s\", \" is\", clean_text) # It's -> it is [Generalize possible to be \"has\"]\n",
    "        clean_text = re.sub(\"\\'m\", \" am\", clean_text) # I'm -> i am\n",
    "        clean_text = re.sub(\"\\'re\", \" are\", clean_text) # They're -> they are\n",
    "\n",
    "        ## Past Tense Contractraction\n",
    "        clean_text = re.sub(\"\\'ve\", \" have\", clean_text) # I've -> i have\n",
    "\n",
    "        ## Future Tense Contraction\n",
    "        clean_text = re.sub(\"\\'ll\", \" will\", clean_text) # I'll -> i will\n",
    "        clean_text = re.sub(\"\\'d\", \" would\", clean_text) # I'd -> i would\n",
    "\n",
    "        ## Return the decontracted phrase\n",
    "        return clean_text\n",
    "\n",
    "    def star_replacer(match):\n",
    "        score_range = {1: \"one\", 2: \"two\", 3: \"three\", 4: \"four\", 5: \"five\", 10: \"ten\"}\n",
    "        num = int(match.group(1))  # Extract the captured number from the match\n",
    "        if num in score_range:\n",
    "            if num == 1: # If its a 1 star case\n",
    "                return score_range[num] + \" star\" # Singular\n",
    "            else:\n",
    "                return score_range[num] + \" stars\"  # Plural Stars\n",
    "        else:\n",
    "            return str(num) + \" stars\"  # Other cases\n",
    "\n",
    "    def star_rating_to_text(text):\n",
    "        rating_regex = r\"(1?[0-9])\\s?[Ss]tars?\" #Number follow by stars or star\n",
    "        transformed_text = re.sub(rating_regex, star_replacer, text)\n",
    "        return transformed_text\n",
    "    \n",
    "    def penn_to_wordnet(penn_pos_tag):\n",
    "        tag_dictionary = {'NN':'n', 'JJ':'a','VB':'v', 'RB':'r'}\n",
    "        try:\n",
    "            return tag_dictionary[penn_pos_tag[:2]]\n",
    "        except:\n",
    "            return 'n'\n",
    "    \n",
    "    ## Regular Expression to clean the code\n",
    "    clean_text = re.sub(\"[a-zA-Z0-9._+-]+@[a-zA-Z0-9.-]+\\.[a-zA-Z]{2,}\", \" \", text)\n",
    "    clean_text = re.sub(\"<.*?>\", \" \", clean_text)\n",
    "    clean_text = re.sub(\"(https?:\\/\\/|www\\.){0,1}[a-zA-Z0-9]{2,}\\.[a-zA-Z0-9]{2,}\\S*\", \" \", clean_text) \n",
    "    clean_text = star_rating_to_text(clean_text)\n",
    "    clean_text = expand_contract_word(clean_text)\n",
    "    \n",
    "    processed_review_text = list() # holder for a review\n",
    "    for sent in sent_tokenize(clean_text): # Tokenize as a sentence\n",
    "        tag_sentence = pos_tag(word_tokenize(sent)) # Give the sentences tagging\n",
    "        for word, tag in tag_sentence:\n",
    "            word = word.replace(\"-\", \"\") # round-trip -> roundtrip\n",
    "            word = word.replace(\".\", \"\") # U.S. -> US\n",
    "            word = word.lower() # Change to lowercase\n",
    "            word_matcher = re.match(\"[a-z]+\", word) # a word should only be a list of characters\n",
    "            if (word_matcher != None):\n",
    "                if(word_matcher.group() == word): # If the detected word is the same with regex\n",
    "                    ## A word should be two characters or more (e.g. no) and punctuation and not in the list of stop words \n",
    "                    if (len(word)>=2) and (word not in punc_list) and (word not in updated_stopwords):\n",
    "                        processed_review_text.append(wnl.lemmatize(word, pos=penn_to_wordnet(tag)))\n",
    "\n",
    "    cleaned_formatted_text = (\" \".join(processed_review_text)).strip()\n",
    "    \n",
    "    ## Prediction\n",
    "    pred_rating = None\n",
    "    if model_name in available_models:\n",
    "        with open(model_name, \"rb\") as model_file:\n",
    "            selected_model = pickle.load(model_file)\n",
    "        \n",
    "        ## Select Text Processing Techniques Based on the Input\n",
    "        processed_text = None # Placeholder\n",
    "        \n",
    "        if (model_name == \"cnn_model.pkl\") or (model_name == \"lstm_model.pkl\"):\n",
    "            with open(\"tokenizer.pkl\", \"rb\") as file:\n",
    "                saved_tokenizer = pickle.load(file)\n",
    "            clean_text = [cleaned_formatted_text]\n",
    "            clean_text_seq = saved_tokenizer.texts_to_sequences(clean_text)\n",
    "            processed_text = pad_sequences(clean_text_seq,\n",
    "                                          maxlen = MAX_SEQUENCE_LENGTH,\n",
    "                                          padding = PADDING)\n",
    "            \n",
    "#             file.close() # Close tokenier file\n",
    "            \n",
    "            pred_rating_prob = selected_model.predict(processed_text)\n",
    "            pred_rating_idxs = np.argmax(pred_rating_prob, axis=1)\n",
    "            pred_rating_ls = pred_rating_idxs.tolist()\n",
    "            pred_rating = [scores_label_dict[pred] for pred in pred_rating_ls]\n",
    "            \n",
    "        else:\n",
    "            ##\n",
    "            processed_text = [cleaned_formatted_text] # Other cases\n",
    "            pred_rating = selected_model.predict(processed_text) # As the TFIDF Already Implemented in the pipeline\n",
    "        \n",
    "        ## Predict the Rating\n",
    "#         model_file.close() # Close Model File\n",
    "        \n",
    "        ## Visualize the Prediction\n",
    "        print(\"-\" * 50)\n",
    "        print(\"Model Name:\", model_name)\n",
    "        print(\"-\" * 50)\n",
    "        print(\"Input Text:\", text)\n",
    "        print(\"Predicted Rating:\", pred_rating[0])\n",
    "        print(\"-\" * 50 + \"\\n\")\n",
    "        \n",
    "        return pred_rating\n",
    "        \n",
    "    else:\n",
    "        print(\"-\"*25 + \" WARNING \" + \"-\"*25)\n",
    "        print(\"Please Input a Valid Model Name\")\n",
    "        print(\"Available Models Are:\\n\", available_models)\n",
    "        print(\"-\"*25 + \" WARNING \" + \"-\"*25)"
   ]
  },
  {
   "cell_type": "code",
   "execution_count": 2,
   "metadata": {},
   "outputs": [
    {
     "name": "stdout",
     "output_type": "stream",
     "text": [
      "\n",
      "< <- Bad Review Testing -> >\n",
      "--------------------------------------------------\n",
      "Model Name: naive_bayes_model.pkl\n",
      "--------------------------------------------------\n",
      "Input Text: Very Bad, I hate it. I not going to recommend it for anyone.\n",
      "Predicted Rating: 1\n",
      "--------------------------------------------------\n",
      "\n",
      "--------------------------------------------------\n",
      "Model Name: knn_model.pkl\n",
      "--------------------------------------------------\n",
      "Input Text: Very Bad, I hate it. I not going to recommend it for anyone.\n",
      "Predicted Rating: 1\n",
      "--------------------------------------------------\n",
      "\n",
      "1/1 [==============================] - 0s 121ms/step\n",
      "--------------------------------------------------\n",
      "Model Name: cnn_model.pkl\n",
      "--------------------------------------------------\n",
      "Input Text: Very Bad, I hate it. I not going to recommend it for anyone.\n",
      "Predicted Rating: 1\n",
      "--------------------------------------------------\n",
      "\n",
      "1/1 [==============================] - 1s 1s/step\n",
      "--------------------------------------------------\n",
      "Model Name: lstm_model.pkl\n",
      "--------------------------------------------------\n",
      "Input Text: Very Bad, I hate it. I not going to recommend it for anyone.\n",
      "Predicted Rating: 1\n",
      "--------------------------------------------------\n",
      "\n",
      "\n",
      "< <- Good Review Testing -> >\n",
      "--------------------------------------------------\n",
      "Model Name: naive_bayes_model.pkl\n",
      "--------------------------------------------------\n",
      "Input Text: Very Good product, I love it. I would recommended to anyone I know.\n",
      "Predicted Rating: 5\n",
      "--------------------------------------------------\n",
      "\n",
      "--------------------------------------------------\n",
      "Model Name: knn_model.pkl\n",
      "--------------------------------------------------\n",
      "Input Text: Very Good product, I love it. I would recommended to anyone I know.\n",
      "Predicted Rating: 1\n",
      "--------------------------------------------------\n",
      "\n",
      "1/1 [==============================] - 0s 67ms/step\n",
      "--------------------------------------------------\n",
      "Model Name: cnn_model.pkl\n",
      "--------------------------------------------------\n",
      "Input Text: Very Good product, I love it. I would recommended to anyone I know.\n",
      "Predicted Rating: 4\n",
      "--------------------------------------------------\n",
      "\n",
      "1/1 [==============================] - 1s 1s/step\n",
      "--------------------------------------------------\n",
      "Model Name: lstm_model.pkl\n",
      "--------------------------------------------------\n",
      "Input Text: Very Good product, I love it. I would recommended to anyone I know.\n",
      "Predicted Rating: 4\n",
      "--------------------------------------------------\n",
      "\n",
      "\n",
      "< <- Not Exist Model -> >\n",
      "\n",
      "------------------------- WARNING -------------------------\n",
      "Please Input a Valid Model Name\n",
      "Available Models Are:\n",
      " ['naive_bayes_model.pkl', 'knn_model.pkl', 'cnn_model.pkl', 'lstm_model.pkl']\n",
      "------------------------- WARNING -------------------------\n"
     ]
    }
   ],
   "source": [
    "## Testing the Input\n",
    "print(\"\\n< <- Bad Review Testing -> >\")\n",
    "fake_bad_review = \"Very Bad, I hate it. I not going to recommend it for anyone.\" # Possible 1-2 Score\n",
    "predict_food_review(fake_bad_review , \"naive_bayes_model.pkl\")\n",
    "predict_food_review(fake_bad_review , \"knn_model.pkl\")\n",
    "predict_food_review(fake_bad_review , \"cnn_model.pkl\")\n",
    "predict_food_review(fake_bad_review , \"lstm_model.pkl\")\n",
    "\n",
    "print(\"\\n< <- Good Review Testing -> >\")\n",
    "fake_good_review = \"Very Good product, I love it. I would recommended to anyone I know.\" # Possible 4-5 Score\n",
    "predict_food_review(fake_good_review , \"naive_bayes_model.pkl\")\n",
    "predict_food_review(fake_good_review , \"knn_model.pkl\")\n",
    "predict_food_review(fake_good_review , \"cnn_model.pkl\")\n",
    "predict_food_review(fake_good_review , \"lstm_model.pkl\")\n",
    "\n",
    "print(\"\\n< <- Not Exist Model -> >\\n\")\n",
    "predict_food_review(fake_bad_review , \"deep_learning_model.pkl\") # Not Exist Model"
   ]
  },
  {
   "cell_type": "markdown",
   "metadata": {
    "deletable": false,
    "editable": false,
    "nbgrader": {
     "cell_type": "markdown",
     "checksum": "66fe20bf6b18e122ab5eb3a8110ee13b",
     "grade": false,
     "grade_id": "cell-3632d0c81d039058",
     "locked": true,
     "schema_version": 3,
     "solution": false,
     "task": false
    }
   },
   "source": [
    "## Report - Task 1\n",
    "Critical discussion about the dataset (suitability, problems, class balance, etc.). (**6%**)"
   ]
  },
  {
   "cell_type": "markdown",
   "metadata": {
    "deletable": false,
    "nbgrader": {
     "cell_type": "markdown",
     "checksum": "c04a7d6b4dc1614cce18ae7dc9b59ee0",
     "grade": true,
     "grade_id": "cell-723b0c0e08ba0f30",
     "locked": false,
     "points": 6,
     "schema_version": 3,
     "solution": true,
     "task": false
    }
   },
   "source": [
    "In this scenario, we are tasked with predicting food review scores through the review data set which contains three columns: Score, Summary, and Text, done by customers. The \"Summary\" provides the overall justification of the score and the \"Text\" elaborates on it. These two components represent the customer's justification for their rated score. Thus, for product rating prediction, this dataset is suitable to be used to build a prediction Model. However, it contains distortional high numbers of 5 rated scores compared to other classes. Therefore, we would address this class imbalance issue before the text data is used to train a machine-learning model within the pre-processing step. Directly using imbalanced data would result in a model that is biased towards predicting only a 5 rating. Additionally, we will remove duplicate rows that have all the same three columns to prevent overfitting and create a more generalized model. As this dataset is large at 540,031 reviews, we will be using a subset of data (15%) to build a smaller model to evaluate each modeling approach. Nevertheless, it should be noted that with multiple score classes and a small dataset, our ML models would potentially achieve low accuracy scores compared to large-scale models, as there are relatively fewer reviews and its vocabulary to represent all potential reviews.\n",
    "\n",
    "<b> Words Count: </b> 215 words"
   ]
  },
  {
   "cell_type": "markdown",
   "metadata": {
    "deletable": false,
    "editable": false,
    "nbgrader": {
     "cell_type": "markdown",
     "checksum": "e16e80cbdb327b4bd8b3dc8644c93953",
     "grade": false,
     "grade_id": "cell-cf6f3bf73d0b219c",
     "locked": true,
     "schema_version": 3,
     "solution": false,
     "task": false
    }
   },
   "source": [
    "## Report - Task 2\n",
    "Description and justification of the data preparation step(s) used. (**6%**)"
   ]
  },
  {
   "cell_type": "markdown",
   "metadata": {
    "deletable": false,
    "nbgrader": {
     "cell_type": "markdown",
     "checksum": "9d827d373523a1ebd5f7adf108d5fc5e",
     "grade": true,
     "grade_id": "cell-ff3a7a6577a764fb",
     "locked": false,
     "points": 6,
     "schema_version": 3,
     "solution": true,
     "task": false
    }
   },
   "source": [
    "To prepare the data for modeling, we first combined the “Summary” and “Text” to keep all the information about the product review. Then we sampled a subset of data (15%) while maintaining the imbalanced class distribution. Subsequently, we will split the subset into 70% for training and 30% for testing data. This is to evaluate the model with the real-world score distribution. The training data is downsampled to the number of the lowest class to create a balanced dataset. Later, we apply the data processing function to both training and testing data before being used to build ML models. We are applying it after the test and train split as there would be some samples removed after downsampling, reducing processing time. The preparation consists of removing emails, URLs, and HTML tags, expanding the contracted word forms (e.g., isn’t to is not), replacing the user star rating with text to retain relevant text (e.g., 5 stars to five stars), and lemmatizing the text data. We select lemmatization over stemming as stemming would not maintain the part of speech that the word represents. In this case, we focus on keeping adjectives, which describe nouns, the products. Subsequently, we will convert words to lowercase and remove common stopwords. However, we will not remove some negative stopwords (e.g., not) as it could reflect the negative scores. Other truncated stopwords are not added to this negative stopwords list as we have previously expanded it. Additionally, punctuation marks are removed, and we filter out words that have a length of more than 2 in our cleaned text.\n",
    "\n",
    "<b> Words Count: </b> 261 words"
   ]
  },
  {
   "cell_type": "markdown",
   "metadata": {
    "deletable": false,
    "editable": false,
    "nbgrader": {
     "cell_type": "markdown",
     "checksum": "5bfd5a727276dd53f136df6d1d262fe6",
     "grade": false,
     "grade_id": "cell-0a65e991a54b21c4",
     "locked": true,
     "schema_version": 3,
     "solution": false,
     "task": false
    }
   },
   "source": [
    "## Report - Task 3\n",
    "Description and commentary on the machine learning architectures used, including a description and justification of the text representation method(s) used. (**7%**)"
   ]
  },
  {
   "cell_type": "markdown",
   "metadata": {
    "deletable": false,
    "nbgrader": {
     "cell_type": "markdown",
     "checksum": "03960b9d6fae49a8bbd6547d5c67b9fc",
     "grade": true,
     "grade_id": "cell-6c64da91adfef770",
     "locked": false,
     "points": 7,
     "schema_version": 3,
     "solution": true,
     "task": false
    }
   },
   "source": [
    "1.\t<b> Naïve Bayes Model </b> <br>\n",
    "Naïve Bayes is a probabilistic model based on Bayes’ theorem that assumes the independence between words within the review dataset, which aligns with the TF-IDF underlying assumption. Therefore, we select TF-IDF text representation. Additionally, it provides interpretability when compared to text embeddings, which is a dense text representation. We apply a pipeline to connect the TF-IDF vectorizer with the Naïve Bayes model.\n",
    "<br>\n",
    "\n",
    "2.\t<b> k-Nearest Neighbor (k-NN) </b> <br>\n",
    "For the k-NN model, we select TF-IDF text representation as it provides interpretability of how a word is considered in the context of this review dataset. The TF-IDF vectorizer is added into the model with make pipeline, which connects the processed text data from the training set into the k-NN model. With our goal to create a prediction model, we select the best k value based on average cross-validation (CV) accuracy. CV method splits the data into 3-folds evaluates the average accuracy and builds a model, reducing overfitting. In this report, we select k equals 7 as it produces the highest average performance among other k-values at 0.3074 accuracy.\n",
    "<br>\n",
    "\n",
    "3.\t<b> Convolution Neural Network (CNN) </b> <br>\n",
    "For the CNN model, we utilize Global Vectors for Word Representation (GloVe) pre-trained word embedding (glove.6B.50d) with 50 embeddings dimension (Pennington et al., 2014). This embedding provides a dense word representation, reducing the computational time for these deep-learning models. Despite the lack of interpretability compared to TF-IDF, word embeddings capture a semantic representation of words, which CNN could derive. In the CNN architecture. this embedding is utilized as a layer. Two subsequent one-dimensional convolution layers are selected to extract features. We selected a kernel size of 3 for convolution layers, as larger kernels could result in loss of information. These two layers are followed by a global pooling layer to reduce the dimensionality of the data. The pooled features are passed through classification layers made from two dense layers. In this layer, the dropout layer is added to improve generalization through the prevention of overfitting (Srivastava et al., 2014). The dense layer is connected to the output layer, which has a softmax activation function, which provides a probability for each output class within the dataset.\n",
    "<br>\n",
    "\n",
    "4.\t<b> Long Short-Term Memory (LSTM) </b> <br>\n",
    "For this section, we select the LSTM model over the Recurrent Neural Network as LSTM could capture the text data across the sequences of words. Similar to CNN, LSTM utilized the same word embedding as the CNN model to retain sematic representation and improve computation time. The LSTM architecture connects the embedding layer to two bidirectional LSTMs: forward and backward pass. These two layers are connected to the classification layer made from two dense layers. LSTM overfitting is reduced through the implementation of drop-out layers within these dense layers. The dense layer is connected to an output layer with softmax activation function.\n",
    "\n",
    "<b> Words Count: </b> 466 words\n",
    "<br>\n",
    "<b> References </b> <br>\n",
    "1. Pennington, J., Socher, R. and Manning, C.D. (2014) GloVe: Global Vectors for Word Representation, Glove: Global vectors for word representation. Available at: https://nlp.stanford.edu/projects/glove/ (Accessed: 13 March 2024).\n",
    "2. Srivastava, N., Hinton, G., Krizhevsky, A., Sutskever, I., & Salakhutdinov, R. (2014). Dropout: a simple way to prevent neural networks from overfitting. The journal of machine learning research, 15(1), 1929-1958."
   ]
  },
  {
   "cell_type": "markdown",
   "metadata": {
    "deletable": false,
    "editable": false,
    "nbgrader": {
     "cell_type": "markdown",
     "checksum": "874f5d8565ae3e5a4cb52d837e4beceb",
     "grade": false,
     "grade_id": "cell-7112118f421c6a5a",
     "locked": true,
     "schema_version": 3,
     "solution": false,
     "task": false
    }
   },
   "source": [
    "## Report - Task 4\n",
    "Detailed performance evaluation of the trained machine learning models in terms of the computed performance metrics. (**5%**)"
   ]
  },
  {
   "cell_type": "markdown",
   "metadata": {
    "deletable": false,
    "nbgrader": {
     "cell_type": "markdown",
     "checksum": "071a2e19285688d52725adc2063d2044",
     "grade": true,
     "grade_id": "cell-201e49e468eaa417",
     "locked": false,
     "points": 5,
     "schema_version": 3,
     "solution": true,
     "task": false
    }
   },
   "source": [
    "For performance evaluation, we will focus on accurately predicting the correct class or the true positive cases for each rating, treating their importance equally. Therefore, we will be using macro averages of precision, recall, and its harmonic mean, F1-score, in addition to the accuracy score. This is due to the testing dataset containing disproportional instances of 5-rating compared to other ratings. As we using two text representation methods TF-IDF and word embeddings, we will first compare Naïve Bayes with k-NN performance and CNN and LSTM. Between Naïve Bayes and k-NN (7 neighbors), the Bayes model achieves higher macro average F1, precision, recall, and accuracy compared to k-NN this makes the Bayes model a more suitable model. For Bayes classification performance, 5-rating and 1-rating achieves 0.91 and 0.49 precision and the recall is 0.53 and 0.56, accordingly. This indicates that the model detects fewer results but when it does for 5-rating, it correctly predicted. This is represented in the confusion matrix where Bayes model where the model prediction matched the true labels for 5-rating.\n",
    "On the other hand, for CNN and LSTM, It should be noted that subsequent training run produces high variance in prediction accuracy (testing). We suspect that this is a result of the non-deterministic behavior during model training. Overall, across multiple runs, the LSTM model achieves higher macro average F1, precision, recall, and accuracy compared to the CNN model. Similar to the Naïve Bayes model, LSTM model, 5-rating and 1-rating  classes have the highest precision with 1-rating have higher recalled compared to 5-rating. \n",
    "\n",
    "<b> Words Count: </b> 255 words"
   ]
  },
  {
   "cell_type": "markdown",
   "metadata": {
    "deletable": false,
    "editable": false,
    "nbgrader": {
     "cell_type": "markdown",
     "checksum": "ac8dc11dd7f998b7d3d5c0e904c08c5f",
     "grade": false,
     "grade_id": "cell-5e6e5b8b57811a63",
     "locked": true,
     "schema_version": 3,
     "solution": false,
     "task": false
    }
   },
   "source": [
    "## Report - Task 5\n",
    "Critical discussion on the achieved results, including potential limitations and usage instructions/suggestions. (**6%**)"
   ]
  },
  {
   "cell_type": "markdown",
   "metadata": {
    "deletable": false,
    "nbgrader": {
     "cell_type": "markdown",
     "checksum": "27dd1c5197d66c3081a133456110abb0",
     "grade": true,
     "grade_id": "cell-11c60b80d50f1d27",
     "locked": false,
     "points": 6,
     "schema_version": 3,
     "solution": true,
     "task": false
    }
   },
   "source": [
    "From the achieved results, we identified that the Naïve Bayes, using TF-IDF, and LSTM, using pre-trained word embeddings, models perform better than their same text representation counterpart making them a suitable choice for this application. However, their overall performance are suboptimal to be deployed for this food rating according to the testing overall classes’ macro F1 and accuracy scores. This fact is especially true with the LSTM model, which theoretically could achieve better performance matrices than the Naïve Bayes through the word embeddings. However, our results revealed that both DL models have high variance in their prediction accuracy, hindering comparison. We attributed this to the non-deterministic behavior during training, which requires investigation. Furthermore, the DL training plot indicates that both models overfit towards the training data as the training accuracy grows with successive training epochs compared to validation accuracy. To tackle this issue, we suggest the use of data augmentation and regularization methods to make the model more generalized. Additionally, future modeling should consider using larger vocabulary size in the embeddings or self-trained embeddings models, as not all vocabulary in training data is being utilized due to being out-of-vocabulary in the pre-trained embeddings. As for high precision and recall for 1 and 5 rating categories across all the models, we hypothesized that it is due to the distinct vocabulary between these two extremes, resulting in high detection of true positive cases.\n",
    "\n",
    "In conclusion, this report provides insights into the performance of four language models, we identified Naïve Bayes and LSTM models as potential models for this application. Still, it requires further exploration to address the existing limitations. To test these four models, a function called “predict_food_review” takes in the review text and the model file to predict the rating. If a model file does not exist, an error message will be printed.\n",
    "\n",
    "\n",
    "<b> Words Count: </b> 302 words"
   ]
  },
  {
   "cell_type": "markdown",
   "metadata": {},
   "source": [
    "<b> Total Report Words Count: </b> 1499 words (This excludes markdowns and references)"
   ]
  },
  {
   "cell_type": "code",
   "execution_count": null,
   "metadata": {},
   "outputs": [],
   "source": []
  }
 ],
 "metadata": {
  "kernelspec": {
   "display_name": "Python 3",
   "language": "python",
   "name": "python3"
  },
  "language_info": {
   "codemirror_mode": {
    "name": "ipython",
    "version": 3
   },
   "file_extension": ".py",
   "mimetype": "text/x-python",
   "name": "python",
   "nbconvert_exporter": "python",
   "pygments_lexer": "ipython3",
   "version": "3.11.9"
  }
 },
 "nbformat": 4,
 "nbformat_minor": 4
}
